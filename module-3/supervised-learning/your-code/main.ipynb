{
 "cells": [
  {
   "cell_type": "markdown",
   "source": [
    "# Before you start:\n",
    "- Read the README.md file\n",
    "- Comment as much as you can and use the resources in the README.md file\n",
    "- Happy learning!"
   ],
   "metadata": {}
  },
  {
   "cell_type": "code",
   "execution_count": 73,
   "source": [
    "# Import your libraries:\n",
    "\n",
    "%matplotlib inline\n",
    "\n",
    "import numpy as np\n",
    "import pandas as pd\n",
    "import seaborn as sns\n",
    "import matplotlib.pyplot as plt\n"
   ],
   "outputs": [],
   "metadata": {}
  },
  {
   "cell_type": "markdown",
   "source": [
    "In this lab, we will explore a dataset that describes websites with different features and labels them either benign or malicious . We will use supervised learning algorithms to figure out what feature patterns malicious websites are likely to have and use our model to predict malicious websites.\n",
    "\n",
    "# Challenge 1 - Explore The Dataset\n",
    "\n",
    "Let's start by exploring the dataset. First load the data file:"
   ],
   "metadata": {}
  },
  {
   "cell_type": "code",
   "execution_count": 74,
   "source": [
    "websites = pd.read_csv('../data/website.csv')\n",
    "websites.T"
   ],
   "outputs": [
    {
     "output_type": "execute_result",
     "data": {
      "text/html": [
       "<div>\n",
       "<style scoped>\n",
       "    .dataframe tbody tr th:only-of-type {\n",
       "        vertical-align: middle;\n",
       "    }\n",
       "\n",
       "    .dataframe tbody tr th {\n",
       "        vertical-align: top;\n",
       "    }\n",
       "\n",
       "    .dataframe thead th {\n",
       "        text-align: right;\n",
       "    }\n",
       "</style>\n",
       "<table border=\"1\" class=\"dataframe\">\n",
       "  <thead>\n",
       "    <tr style=\"text-align: right;\">\n",
       "      <th></th>\n",
       "      <th>0</th>\n",
       "      <th>1</th>\n",
       "      <th>2</th>\n",
       "      <th>3</th>\n",
       "      <th>4</th>\n",
       "      <th>5</th>\n",
       "      <th>6</th>\n",
       "      <th>7</th>\n",
       "      <th>8</th>\n",
       "      <th>9</th>\n",
       "      <th>...</th>\n",
       "      <th>1771</th>\n",
       "      <th>1772</th>\n",
       "      <th>1773</th>\n",
       "      <th>1774</th>\n",
       "      <th>1775</th>\n",
       "      <th>1776</th>\n",
       "      <th>1777</th>\n",
       "      <th>1778</th>\n",
       "      <th>1779</th>\n",
       "      <th>1780</th>\n",
       "    </tr>\n",
       "  </thead>\n",
       "  <tbody>\n",
       "    <tr>\n",
       "      <th>URL</th>\n",
       "      <td>M0_109</td>\n",
       "      <td>B0_2314</td>\n",
       "      <td>B0_911</td>\n",
       "      <td>B0_113</td>\n",
       "      <td>B0_403</td>\n",
       "      <td>B0_2064</td>\n",
       "      <td>B0_462</td>\n",
       "      <td>B0_1128</td>\n",
       "      <td>M2_17</td>\n",
       "      <td>M3_75</td>\n",
       "      <td>...</td>\n",
       "      <td>M4_43</td>\n",
       "      <td>M4_61</td>\n",
       "      <td>M4_39</td>\n",
       "      <td>B0_156</td>\n",
       "      <td>M4_45</td>\n",
       "      <td>M4_48</td>\n",
       "      <td>M4_41</td>\n",
       "      <td>B0_162</td>\n",
       "      <td>B0_1152</td>\n",
       "      <td>B0_676</td>\n",
       "    </tr>\n",
       "    <tr>\n",
       "      <th>URL_LENGTH</th>\n",
       "      <td>16</td>\n",
       "      <td>16</td>\n",
       "      <td>16</td>\n",
       "      <td>17</td>\n",
       "      <td>17</td>\n",
       "      <td>18</td>\n",
       "      <td>18</td>\n",
       "      <td>19</td>\n",
       "      <td>20</td>\n",
       "      <td>20</td>\n",
       "      <td>...</td>\n",
       "      <td>170</td>\n",
       "      <td>173</td>\n",
       "      <td>178</td>\n",
       "      <td>183</td>\n",
       "      <td>194</td>\n",
       "      <td>194</td>\n",
       "      <td>198</td>\n",
       "      <td>201</td>\n",
       "      <td>234</td>\n",
       "      <td>249</td>\n",
       "    </tr>\n",
       "    <tr>\n",
       "      <th>NUMBER_SPECIAL_CHARACTERS</th>\n",
       "      <td>7</td>\n",
       "      <td>6</td>\n",
       "      <td>6</td>\n",
       "      <td>6</td>\n",
       "      <td>6</td>\n",
       "      <td>7</td>\n",
       "      <td>6</td>\n",
       "      <td>6</td>\n",
       "      <td>5</td>\n",
       "      <td>5</td>\n",
       "      <td>...</td>\n",
       "      <td>17</td>\n",
       "      <td>34</td>\n",
       "      <td>16</td>\n",
       "      <td>29</td>\n",
       "      <td>17</td>\n",
       "      <td>16</td>\n",
       "      <td>17</td>\n",
       "      <td>34</td>\n",
       "      <td>34</td>\n",
       "      <td>40</td>\n",
       "    </tr>\n",
       "    <tr>\n",
       "      <th>CHARSET</th>\n",
       "      <td>iso-8859-1</td>\n",
       "      <td>UTF-8</td>\n",
       "      <td>us-ascii</td>\n",
       "      <td>ISO-8859-1</td>\n",
       "      <td>UTF-8</td>\n",
       "      <td>UTF-8</td>\n",
       "      <td>iso-8859-1</td>\n",
       "      <td>us-ascii</td>\n",
       "      <td>utf-8</td>\n",
       "      <td>utf-8</td>\n",
       "      <td>...</td>\n",
       "      <td>UTF-8</td>\n",
       "      <td>UTF-8</td>\n",
       "      <td>UTF-8</td>\n",
       "      <td>ISO-8859-1</td>\n",
       "      <td>UTF-8</td>\n",
       "      <td>UTF-8</td>\n",
       "      <td>UTF-8</td>\n",
       "      <td>utf-8</td>\n",
       "      <td>ISO-8859-1</td>\n",
       "      <td>utf-8</td>\n",
       "    </tr>\n",
       "    <tr>\n",
       "      <th>SERVER</th>\n",
       "      <td>nginx</td>\n",
       "      <td>Apache/2.4.10</td>\n",
       "      <td>Microsoft-HTTPAPI/2.0</td>\n",
       "      <td>nginx</td>\n",
       "      <td>None</td>\n",
       "      <td>nginx</td>\n",
       "      <td>Apache/2</td>\n",
       "      <td>Microsoft-HTTPAPI/2.0</td>\n",
       "      <td>nginx/1.10.1</td>\n",
       "      <td>nginx/1.10.1</td>\n",
       "      <td>...</td>\n",
       "      <td>Apache</td>\n",
       "      <td>Apache</td>\n",
       "      <td>Apache</td>\n",
       "      <td>Microsoft-IIS/7.5; litigation_essentials.lexis...</td>\n",
       "      <td>Apache</td>\n",
       "      <td>Apache</td>\n",
       "      <td>Apache</td>\n",
       "      <td>Apache/2.2.16 (Debian)</td>\n",
       "      <td>cloudflare-nginx</td>\n",
       "      <td>Microsoft-IIS/8.5</td>\n",
       "    </tr>\n",
       "    <tr>\n",
       "      <th>CONTENT_LENGTH</th>\n",
       "      <td>263.0</td>\n",
       "      <td>15087.0</td>\n",
       "      <td>324.0</td>\n",
       "      <td>162.0</td>\n",
       "      <td>124140.0</td>\n",
       "      <td>NaN</td>\n",
       "      <td>345.0</td>\n",
       "      <td>324.0</td>\n",
       "      <td>NaN</td>\n",
       "      <td>NaN</td>\n",
       "      <td>...</td>\n",
       "      <td>NaN</td>\n",
       "      <td>NaN</td>\n",
       "      <td>NaN</td>\n",
       "      <td>4890.0</td>\n",
       "      <td>NaN</td>\n",
       "      <td>NaN</td>\n",
       "      <td>NaN</td>\n",
       "      <td>8904.0</td>\n",
       "      <td>NaN</td>\n",
       "      <td>24435.0</td>\n",
       "    </tr>\n",
       "    <tr>\n",
       "      <th>WHOIS_COUNTRY</th>\n",
       "      <td>None</td>\n",
       "      <td>None</td>\n",
       "      <td>None</td>\n",
       "      <td>US</td>\n",
       "      <td>US</td>\n",
       "      <td>SC</td>\n",
       "      <td>US</td>\n",
       "      <td>US</td>\n",
       "      <td>None</td>\n",
       "      <td>None</td>\n",
       "      <td>...</td>\n",
       "      <td>ES</td>\n",
       "      <td>ES</td>\n",
       "      <td>ES</td>\n",
       "      <td>US</td>\n",
       "      <td>ES</td>\n",
       "      <td>ES</td>\n",
       "      <td>ES</td>\n",
       "      <td>US</td>\n",
       "      <td>US</td>\n",
       "      <td>US</td>\n",
       "    </tr>\n",
       "    <tr>\n",
       "      <th>WHOIS_STATEPRO</th>\n",
       "      <td>None</td>\n",
       "      <td>None</td>\n",
       "      <td>None</td>\n",
       "      <td>AK</td>\n",
       "      <td>TX</td>\n",
       "      <td>Mahe</td>\n",
       "      <td>CO</td>\n",
       "      <td>FL</td>\n",
       "      <td>None</td>\n",
       "      <td>None</td>\n",
       "      <td>...</td>\n",
       "      <td>Barcelona</td>\n",
       "      <td>Barcelona</td>\n",
       "      <td>Barcelona</td>\n",
       "      <td>NY</td>\n",
       "      <td>Barcelona</td>\n",
       "      <td>Barcelona</td>\n",
       "      <td>Barcelona</td>\n",
       "      <td>FL</td>\n",
       "      <td>CA</td>\n",
       "      <td>Wisconsin</td>\n",
       "    </tr>\n",
       "    <tr>\n",
       "      <th>WHOIS_REGDATE</th>\n",
       "      <td>10/10/2015 18:21</td>\n",
       "      <td>None</td>\n",
       "      <td>None</td>\n",
       "      <td>7/10/1997 4:00</td>\n",
       "      <td>12/05/1996 0:00</td>\n",
       "      <td>3/08/2016 14:30</td>\n",
       "      <td>29/07/2002 0:00</td>\n",
       "      <td>18/03/1997 0:00</td>\n",
       "      <td>8/11/2014 7:41</td>\n",
       "      <td>8/11/2014 7:41</td>\n",
       "      <td>...</td>\n",
       "      <td>17/09/2008 0:00</td>\n",
       "      <td>17/09/2008 0:00</td>\n",
       "      <td>17/09/2008 0:00</td>\n",
       "      <td>26/06/1997 0:00</td>\n",
       "      <td>17/09/2008 0:00</td>\n",
       "      <td>17/09/2008 0:00</td>\n",
       "      <td>17/09/2008 0:00</td>\n",
       "      <td>15/02/1999 0:00</td>\n",
       "      <td>1/04/1998 0:00</td>\n",
       "      <td>14/11/2008 0:00</td>\n",
       "    </tr>\n",
       "    <tr>\n",
       "      <th>WHOIS_UPDATED_DATE</th>\n",
       "      <td>None</td>\n",
       "      <td>None</td>\n",
       "      <td>None</td>\n",
       "      <td>12/09/2013 0:45</td>\n",
       "      <td>11/04/2017 0:00</td>\n",
       "      <td>3/10/2016 3:45</td>\n",
       "      <td>1/07/2016 0:00</td>\n",
       "      <td>19/03/2017 0:00</td>\n",
       "      <td>None</td>\n",
       "      <td>None</td>\n",
       "      <td>...</td>\n",
       "      <td>2/09/2016 0:00</td>\n",
       "      <td>2/09/2016 0:00</td>\n",
       "      <td>2/09/2016 0:00</td>\n",
       "      <td>18/11/2014 0:00</td>\n",
       "      <td>2/09/2016 0:00</td>\n",
       "      <td>2/09/2016 0:00</td>\n",
       "      <td>2/09/2016 0:00</td>\n",
       "      <td>15/07/2015 0:00</td>\n",
       "      <td>9/12/2016 0:00</td>\n",
       "      <td>20/11/2013 0:00</td>\n",
       "    </tr>\n",
       "    <tr>\n",
       "      <th>TCP_CONVERSATION_EXCHANGE</th>\n",
       "      <td>7</td>\n",
       "      <td>17</td>\n",
       "      <td>0</td>\n",
       "      <td>31</td>\n",
       "      <td>57</td>\n",
       "      <td>11</td>\n",
       "      <td>12</td>\n",
       "      <td>0</td>\n",
       "      <td>0</td>\n",
       "      <td>0</td>\n",
       "      <td>...</td>\n",
       "      <td>0</td>\n",
       "      <td>1</td>\n",
       "      <td>0</td>\n",
       "      <td>22</td>\n",
       "      <td>0</td>\n",
       "      <td>0</td>\n",
       "      <td>0</td>\n",
       "      <td>83</td>\n",
       "      <td>0</td>\n",
       "      <td>19</td>\n",
       "    </tr>\n",
       "    <tr>\n",
       "      <th>DIST_REMOTE_TCP_PORT</th>\n",
       "      <td>0</td>\n",
       "      <td>7</td>\n",
       "      <td>0</td>\n",
       "      <td>22</td>\n",
       "      <td>2</td>\n",
       "      <td>6</td>\n",
       "      <td>0</td>\n",
       "      <td>0</td>\n",
       "      <td>0</td>\n",
       "      <td>0</td>\n",
       "      <td>...</td>\n",
       "      <td>0</td>\n",
       "      <td>1</td>\n",
       "      <td>0</td>\n",
       "      <td>2</td>\n",
       "      <td>0</td>\n",
       "      <td>0</td>\n",
       "      <td>0</td>\n",
       "      <td>2</td>\n",
       "      <td>0</td>\n",
       "      <td>6</td>\n",
       "    </tr>\n",
       "    <tr>\n",
       "      <th>REMOTE_IPS</th>\n",
       "      <td>2</td>\n",
       "      <td>4</td>\n",
       "      <td>0</td>\n",
       "      <td>3</td>\n",
       "      <td>5</td>\n",
       "      <td>9</td>\n",
       "      <td>3</td>\n",
       "      <td>0</td>\n",
       "      <td>0</td>\n",
       "      <td>0</td>\n",
       "      <td>...</td>\n",
       "      <td>0</td>\n",
       "      <td>1</td>\n",
       "      <td>0</td>\n",
       "      <td>7</td>\n",
       "      <td>0</td>\n",
       "      <td>0</td>\n",
       "      <td>0</td>\n",
       "      <td>6</td>\n",
       "      <td>0</td>\n",
       "      <td>11</td>\n",
       "    </tr>\n",
       "    <tr>\n",
       "      <th>APP_BYTES</th>\n",
       "      <td>700</td>\n",
       "      <td>1230</td>\n",
       "      <td>0</td>\n",
       "      <td>3812</td>\n",
       "      <td>4278</td>\n",
       "      <td>894</td>\n",
       "      <td>1189</td>\n",
       "      <td>0</td>\n",
       "      <td>0</td>\n",
       "      <td>0</td>\n",
       "      <td>...</td>\n",
       "      <td>0</td>\n",
       "      <td>90</td>\n",
       "      <td>0</td>\n",
       "      <td>2062</td>\n",
       "      <td>0</td>\n",
       "      <td>0</td>\n",
       "      <td>0</td>\n",
       "      <td>6631</td>\n",
       "      <td>0</td>\n",
       "      <td>2314</td>\n",
       "    </tr>\n",
       "    <tr>\n",
       "      <th>SOURCE_APP_PACKETS</th>\n",
       "      <td>9</td>\n",
       "      <td>17</td>\n",
       "      <td>0</td>\n",
       "      <td>39</td>\n",
       "      <td>61</td>\n",
       "      <td>11</td>\n",
       "      <td>14</td>\n",
       "      <td>0</td>\n",
       "      <td>2</td>\n",
       "      <td>2</td>\n",
       "      <td>...</td>\n",
       "      <td>0</td>\n",
       "      <td>1</td>\n",
       "      <td>0</td>\n",
       "      <td>30</td>\n",
       "      <td>0</td>\n",
       "      <td>0</td>\n",
       "      <td>0</td>\n",
       "      <td>87</td>\n",
       "      <td>0</td>\n",
       "      <td>25</td>\n",
       "    </tr>\n",
       "    <tr>\n",
       "      <th>REMOTE_APP_PACKETS</th>\n",
       "      <td>10</td>\n",
       "      <td>19</td>\n",
       "      <td>0</td>\n",
       "      <td>37</td>\n",
       "      <td>62</td>\n",
       "      <td>13</td>\n",
       "      <td>13</td>\n",
       "      <td>0</td>\n",
       "      <td>3</td>\n",
       "      <td>1</td>\n",
       "      <td>...</td>\n",
       "      <td>2</td>\n",
       "      <td>5</td>\n",
       "      <td>3</td>\n",
       "      <td>26</td>\n",
       "      <td>3</td>\n",
       "      <td>3</td>\n",
       "      <td>2</td>\n",
       "      <td>89</td>\n",
       "      <td>0</td>\n",
       "      <td>28</td>\n",
       "    </tr>\n",
       "    <tr>\n",
       "      <th>SOURCE_APP_BYTES</th>\n",
       "      <td>1153</td>\n",
       "      <td>1265</td>\n",
       "      <td>0</td>\n",
       "      <td>18784</td>\n",
       "      <td>129889</td>\n",
       "      <td>838</td>\n",
       "      <td>8559</td>\n",
       "      <td>0</td>\n",
       "      <td>213</td>\n",
       "      <td>62</td>\n",
       "      <td>...</td>\n",
       "      <td>124</td>\n",
       "      <td>416</td>\n",
       "      <td>186</td>\n",
       "      <td>8161</td>\n",
       "      <td>186</td>\n",
       "      <td>186</td>\n",
       "      <td>124</td>\n",
       "      <td>132181</td>\n",
       "      <td>0</td>\n",
       "      <td>3039</td>\n",
       "    </tr>\n",
       "    <tr>\n",
       "      <th>REMOTE_APP_BYTES</th>\n",
       "      <td>832</td>\n",
       "      <td>1230</td>\n",
       "      <td>0</td>\n",
       "      <td>4380</td>\n",
       "      <td>4586</td>\n",
       "      <td>894</td>\n",
       "      <td>1327</td>\n",
       "      <td>0</td>\n",
       "      <td>146</td>\n",
       "      <td>146</td>\n",
       "      <td>...</td>\n",
       "      <td>0</td>\n",
       "      <td>90</td>\n",
       "      <td>0</td>\n",
       "      <td>2742</td>\n",
       "      <td>0</td>\n",
       "      <td>0</td>\n",
       "      <td>0</td>\n",
       "      <td>6945</td>\n",
       "      <td>0</td>\n",
       "      <td>2776</td>\n",
       "    </tr>\n",
       "    <tr>\n",
       "      <th>APP_PACKETS</th>\n",
       "      <td>9</td>\n",
       "      <td>17</td>\n",
       "      <td>0</td>\n",
       "      <td>39</td>\n",
       "      <td>61</td>\n",
       "      <td>11</td>\n",
       "      <td>14</td>\n",
       "      <td>0</td>\n",
       "      <td>2</td>\n",
       "      <td>2</td>\n",
       "      <td>...</td>\n",
       "      <td>0</td>\n",
       "      <td>1</td>\n",
       "      <td>0</td>\n",
       "      <td>30</td>\n",
       "      <td>0</td>\n",
       "      <td>0</td>\n",
       "      <td>0</td>\n",
       "      <td>87</td>\n",
       "      <td>0</td>\n",
       "      <td>25</td>\n",
       "    </tr>\n",
       "    <tr>\n",
       "      <th>DNS_QUERY_TIMES</th>\n",
       "      <td>2.0</td>\n",
       "      <td>0.0</td>\n",
       "      <td>0.0</td>\n",
       "      <td>8.0</td>\n",
       "      <td>4.0</td>\n",
       "      <td>0.0</td>\n",
       "      <td>2.0</td>\n",
       "      <td>0.0</td>\n",
       "      <td>2.0</td>\n",
       "      <td>2.0</td>\n",
       "      <td>...</td>\n",
       "      <td>0.0</td>\n",
       "      <td>0.0</td>\n",
       "      <td>0.0</td>\n",
       "      <td>8.0</td>\n",
       "      <td>0.0</td>\n",
       "      <td>0.0</td>\n",
       "      <td>0.0</td>\n",
       "      <td>4.0</td>\n",
       "      <td>0.0</td>\n",
       "      <td>6.0</td>\n",
       "    </tr>\n",
       "    <tr>\n",
       "      <th>Type</th>\n",
       "      <td>1</td>\n",
       "      <td>0</td>\n",
       "      <td>0</td>\n",
       "      <td>0</td>\n",
       "      <td>0</td>\n",
       "      <td>0</td>\n",
       "      <td>0</td>\n",
       "      <td>0</td>\n",
       "      <td>1</td>\n",
       "      <td>1</td>\n",
       "      <td>...</td>\n",
       "      <td>1</td>\n",
       "      <td>1</td>\n",
       "      <td>1</td>\n",
       "      <td>0</td>\n",
       "      <td>1</td>\n",
       "      <td>1</td>\n",
       "      <td>1</td>\n",
       "      <td>0</td>\n",
       "      <td>0</td>\n",
       "      <td>0</td>\n",
       "    </tr>\n",
       "  </tbody>\n",
       "</table>\n",
       "<p>21 rows × 1781 columns</p>\n",
       "</div>"
      ],
      "text/plain": [
       "                                       0              1     \\\n",
       "URL                                  M0_109        B0_2314   \n",
       "URL_LENGTH                               16             16   \n",
       "NUMBER_SPECIAL_CHARACTERS                 7              6   \n",
       "CHARSET                          iso-8859-1          UTF-8   \n",
       "SERVER                                nginx  Apache/2.4.10   \n",
       "CONTENT_LENGTH                        263.0        15087.0   \n",
       "WHOIS_COUNTRY                          None           None   \n",
       "WHOIS_STATEPRO                         None           None   \n",
       "WHOIS_REGDATE              10/10/2015 18:21           None   \n",
       "WHOIS_UPDATED_DATE                     None           None   \n",
       "TCP_CONVERSATION_EXCHANGE                 7             17   \n",
       "DIST_REMOTE_TCP_PORT                      0              7   \n",
       "REMOTE_IPS                                2              4   \n",
       "APP_BYTES                               700           1230   \n",
       "SOURCE_APP_PACKETS                        9             17   \n",
       "REMOTE_APP_PACKETS                       10             19   \n",
       "SOURCE_APP_BYTES                       1153           1265   \n",
       "REMOTE_APP_BYTES                        832           1230   \n",
       "APP_PACKETS                               9             17   \n",
       "DNS_QUERY_TIMES                         2.0            0.0   \n",
       "Type                                      1              0   \n",
       "\n",
       "                                            2                3     \\\n",
       "URL                                       B0_911           B0_113   \n",
       "URL_LENGTH                                    16               17   \n",
       "NUMBER_SPECIAL_CHARACTERS                      6                6   \n",
       "CHARSET                                 us-ascii       ISO-8859-1   \n",
       "SERVER                     Microsoft-HTTPAPI/2.0            nginx   \n",
       "CONTENT_LENGTH                             324.0            162.0   \n",
       "WHOIS_COUNTRY                               None               US   \n",
       "WHOIS_STATEPRO                              None               AK   \n",
       "WHOIS_REGDATE                               None   7/10/1997 4:00   \n",
       "WHOIS_UPDATED_DATE                          None  12/09/2013 0:45   \n",
       "TCP_CONVERSATION_EXCHANGE                      0               31   \n",
       "DIST_REMOTE_TCP_PORT                           0               22   \n",
       "REMOTE_IPS                                     0                3   \n",
       "APP_BYTES                                      0             3812   \n",
       "SOURCE_APP_PACKETS                             0               39   \n",
       "REMOTE_APP_PACKETS                             0               37   \n",
       "SOURCE_APP_BYTES                               0            18784   \n",
       "REMOTE_APP_BYTES                               0             4380   \n",
       "APP_PACKETS                                    0               39   \n",
       "DNS_QUERY_TIMES                              0.0              8.0   \n",
       "Type                                           0                0   \n",
       "\n",
       "                                      4                5                6     \\\n",
       "URL                                 B0_403          B0_2064           B0_462   \n",
       "URL_LENGTH                              17               18               18   \n",
       "NUMBER_SPECIAL_CHARACTERS                6                7                6   \n",
       "CHARSET                              UTF-8            UTF-8       iso-8859-1   \n",
       "SERVER                                None            nginx         Apache/2   \n",
       "CONTENT_LENGTH                    124140.0              NaN            345.0   \n",
       "WHOIS_COUNTRY                           US               SC               US   \n",
       "WHOIS_STATEPRO                          TX             Mahe               CO   \n",
       "WHOIS_REGDATE              12/05/1996 0:00  3/08/2016 14:30  29/07/2002 0:00   \n",
       "WHOIS_UPDATED_DATE         11/04/2017 0:00   3/10/2016 3:45   1/07/2016 0:00   \n",
       "TCP_CONVERSATION_EXCHANGE               57               11               12   \n",
       "DIST_REMOTE_TCP_PORT                     2                6                0   \n",
       "REMOTE_IPS                               5                9                3   \n",
       "APP_BYTES                             4278              894             1189   \n",
       "SOURCE_APP_PACKETS                      61               11               14   \n",
       "REMOTE_APP_PACKETS                      62               13               13   \n",
       "SOURCE_APP_BYTES                    129889              838             8559   \n",
       "REMOTE_APP_BYTES                      4586              894             1327   \n",
       "APP_PACKETS                             61               11               14   \n",
       "DNS_QUERY_TIMES                        4.0              0.0              2.0   \n",
       "Type                                     0                0                0   \n",
       "\n",
       "                                            7               8     \\\n",
       "URL                                      B0_1128           M2_17   \n",
       "URL_LENGTH                                    19              20   \n",
       "NUMBER_SPECIAL_CHARACTERS                      6               5   \n",
       "CHARSET                                 us-ascii           utf-8   \n",
       "SERVER                     Microsoft-HTTPAPI/2.0    nginx/1.10.1   \n",
       "CONTENT_LENGTH                             324.0             NaN   \n",
       "WHOIS_COUNTRY                                 US            None   \n",
       "WHOIS_STATEPRO                                FL            None   \n",
       "WHOIS_REGDATE                    18/03/1997 0:00  8/11/2014 7:41   \n",
       "WHOIS_UPDATED_DATE               19/03/2017 0:00            None   \n",
       "TCP_CONVERSATION_EXCHANGE                      0               0   \n",
       "DIST_REMOTE_TCP_PORT                           0               0   \n",
       "REMOTE_IPS                                     0               0   \n",
       "APP_BYTES                                      0               0   \n",
       "SOURCE_APP_PACKETS                             0               2   \n",
       "REMOTE_APP_PACKETS                             0               3   \n",
       "SOURCE_APP_BYTES                               0             213   \n",
       "REMOTE_APP_BYTES                               0             146   \n",
       "APP_PACKETS                                    0               2   \n",
       "DNS_QUERY_TIMES                              0.0             2.0   \n",
       "Type                                           0               1   \n",
       "\n",
       "                                     9     ...             1771  \\\n",
       "URL                                 M3_75  ...            M4_43   \n",
       "URL_LENGTH                             20  ...              170   \n",
       "NUMBER_SPECIAL_CHARACTERS               5  ...               17   \n",
       "CHARSET                             utf-8  ...            UTF-8   \n",
       "SERVER                       nginx/1.10.1  ...           Apache   \n",
       "CONTENT_LENGTH                        NaN  ...              NaN   \n",
       "WHOIS_COUNTRY                        None  ...               ES   \n",
       "WHOIS_STATEPRO                       None  ...        Barcelona   \n",
       "WHOIS_REGDATE              8/11/2014 7:41  ...  17/09/2008 0:00   \n",
       "WHOIS_UPDATED_DATE                   None  ...   2/09/2016 0:00   \n",
       "TCP_CONVERSATION_EXCHANGE               0  ...                0   \n",
       "DIST_REMOTE_TCP_PORT                    0  ...                0   \n",
       "REMOTE_IPS                              0  ...                0   \n",
       "APP_BYTES                               0  ...                0   \n",
       "SOURCE_APP_PACKETS                      2  ...                0   \n",
       "REMOTE_APP_PACKETS                      1  ...                2   \n",
       "SOURCE_APP_BYTES                       62  ...              124   \n",
       "REMOTE_APP_BYTES                      146  ...                0   \n",
       "APP_PACKETS                             2  ...                0   \n",
       "DNS_QUERY_TIMES                       2.0  ...              0.0   \n",
       "Type                                    1  ...                1   \n",
       "\n",
       "                                      1772             1773  \\\n",
       "URL                                  M4_61            M4_39   \n",
       "URL_LENGTH                             173              178   \n",
       "NUMBER_SPECIAL_CHARACTERS               34               16   \n",
       "CHARSET                              UTF-8            UTF-8   \n",
       "SERVER                              Apache           Apache   \n",
       "CONTENT_LENGTH                         NaN              NaN   \n",
       "WHOIS_COUNTRY                           ES               ES   \n",
       "WHOIS_STATEPRO                   Barcelona        Barcelona   \n",
       "WHOIS_REGDATE              17/09/2008 0:00  17/09/2008 0:00   \n",
       "WHOIS_UPDATED_DATE          2/09/2016 0:00   2/09/2016 0:00   \n",
       "TCP_CONVERSATION_EXCHANGE                1                0   \n",
       "DIST_REMOTE_TCP_PORT                     1                0   \n",
       "REMOTE_IPS                               1                0   \n",
       "APP_BYTES                               90                0   \n",
       "SOURCE_APP_PACKETS                       1                0   \n",
       "REMOTE_APP_PACKETS                       5                3   \n",
       "SOURCE_APP_BYTES                       416              186   \n",
       "REMOTE_APP_BYTES                        90                0   \n",
       "APP_PACKETS                              1                0   \n",
       "DNS_QUERY_TIMES                        0.0              0.0   \n",
       "Type                                     1                1   \n",
       "\n",
       "                                                                        1774  \\\n",
       "URL                                                                   B0_156   \n",
       "URL_LENGTH                                                               183   \n",
       "NUMBER_SPECIAL_CHARACTERS                                                 29   \n",
       "CHARSET                                                           ISO-8859-1   \n",
       "SERVER                     Microsoft-IIS/7.5; litigation_essentials.lexis...   \n",
       "CONTENT_LENGTH                                                        4890.0   \n",
       "WHOIS_COUNTRY                                                             US   \n",
       "WHOIS_STATEPRO                                                            NY   \n",
       "WHOIS_REGDATE                                                26/06/1997 0:00   \n",
       "WHOIS_UPDATED_DATE                                           18/11/2014 0:00   \n",
       "TCP_CONVERSATION_EXCHANGE                                                 22   \n",
       "DIST_REMOTE_TCP_PORT                                                       2   \n",
       "REMOTE_IPS                                                                 7   \n",
       "APP_BYTES                                                               2062   \n",
       "SOURCE_APP_PACKETS                                                        30   \n",
       "REMOTE_APP_PACKETS                                                        26   \n",
       "SOURCE_APP_BYTES                                                        8161   \n",
       "REMOTE_APP_BYTES                                                        2742   \n",
       "APP_PACKETS                                                               30   \n",
       "DNS_QUERY_TIMES                                                          8.0   \n",
       "Type                                                                       0   \n",
       "\n",
       "                                      1775             1776             1777  \\\n",
       "URL                                  M4_45            M4_48            M4_41   \n",
       "URL_LENGTH                             194              194              198   \n",
       "NUMBER_SPECIAL_CHARACTERS               17               16               17   \n",
       "CHARSET                              UTF-8            UTF-8            UTF-8   \n",
       "SERVER                              Apache           Apache           Apache   \n",
       "CONTENT_LENGTH                         NaN              NaN              NaN   \n",
       "WHOIS_COUNTRY                           ES               ES               ES   \n",
       "WHOIS_STATEPRO                   Barcelona        Barcelona        Barcelona   \n",
       "WHOIS_REGDATE              17/09/2008 0:00  17/09/2008 0:00  17/09/2008 0:00   \n",
       "WHOIS_UPDATED_DATE          2/09/2016 0:00   2/09/2016 0:00   2/09/2016 0:00   \n",
       "TCP_CONVERSATION_EXCHANGE                0                0                0   \n",
       "DIST_REMOTE_TCP_PORT                     0                0                0   \n",
       "REMOTE_IPS                               0                0                0   \n",
       "APP_BYTES                                0                0                0   \n",
       "SOURCE_APP_PACKETS                       0                0                0   \n",
       "REMOTE_APP_PACKETS                       3                3                2   \n",
       "SOURCE_APP_BYTES                       186              186              124   \n",
       "REMOTE_APP_BYTES                         0                0                0   \n",
       "APP_PACKETS                              0                0                0   \n",
       "DNS_QUERY_TIMES                        0.0              0.0              0.0   \n",
       "Type                                     1                1                1   \n",
       "\n",
       "                                             1778              1779  \\\n",
       "URL                                        B0_162           B0_1152   \n",
       "URL_LENGTH                                    201               234   \n",
       "NUMBER_SPECIAL_CHARACTERS                      34                34   \n",
       "CHARSET                                     utf-8        ISO-8859-1   \n",
       "SERVER                     Apache/2.2.16 (Debian)  cloudflare-nginx   \n",
       "CONTENT_LENGTH                             8904.0               NaN   \n",
       "WHOIS_COUNTRY                                  US                US   \n",
       "WHOIS_STATEPRO                                 FL                CA   \n",
       "WHOIS_REGDATE                     15/02/1999 0:00    1/04/1998 0:00   \n",
       "WHOIS_UPDATED_DATE                15/07/2015 0:00    9/12/2016 0:00   \n",
       "TCP_CONVERSATION_EXCHANGE                      83                 0   \n",
       "DIST_REMOTE_TCP_PORT                            2                 0   \n",
       "REMOTE_IPS                                      6                 0   \n",
       "APP_BYTES                                    6631                 0   \n",
       "SOURCE_APP_PACKETS                             87                 0   \n",
       "REMOTE_APP_PACKETS                             89                 0   \n",
       "SOURCE_APP_BYTES                           132181                 0   \n",
       "REMOTE_APP_BYTES                             6945                 0   \n",
       "APP_PACKETS                                    87                 0   \n",
       "DNS_QUERY_TIMES                               4.0               0.0   \n",
       "Type                                            0                 0   \n",
       "\n",
       "                                        1780  \n",
       "URL                                   B0_676  \n",
       "URL_LENGTH                               249  \n",
       "NUMBER_SPECIAL_CHARACTERS                 40  \n",
       "CHARSET                                utf-8  \n",
       "SERVER                     Microsoft-IIS/8.5  \n",
       "CONTENT_LENGTH                       24435.0  \n",
       "WHOIS_COUNTRY                             US  \n",
       "WHOIS_STATEPRO                     Wisconsin  \n",
       "WHOIS_REGDATE                14/11/2008 0:00  \n",
       "WHOIS_UPDATED_DATE           20/11/2013 0:00  \n",
       "TCP_CONVERSATION_EXCHANGE                 19  \n",
       "DIST_REMOTE_TCP_PORT                       6  \n",
       "REMOTE_IPS                                11  \n",
       "APP_BYTES                               2314  \n",
       "SOURCE_APP_PACKETS                        25  \n",
       "REMOTE_APP_PACKETS                        28  \n",
       "SOURCE_APP_BYTES                        3039  \n",
       "REMOTE_APP_BYTES                        2776  \n",
       "APP_PACKETS                               25  \n",
       "DNS_QUERY_TIMES                          6.0  \n",
       "Type                                       0  \n",
       "\n",
       "[21 rows x 1781 columns]"
      ]
     },
     "metadata": {},
     "execution_count": 74
    }
   ],
   "metadata": {}
  },
  {
   "cell_type": "markdown",
   "source": [
    "#### Explore the data from an bird's-eye view.\n",
    "\n",
    "You should already been very familiar with the procedures now so we won't provide the instructions step by step. Reflect on what you did in the previous labs and explore the dataset.\n",
    "\n",
    "Things you'll be looking for:\n",
    "\n",
    "* What the dataset looks like?\n",
    "* What are the data types?\n",
    "* Which columns contain the features of the websites?\n",
    "* Which column contains the feature we will predict? What is the code standing for benign vs malicious websites?\n",
    "* Do we need to transform any of the columns from categorical to ordinal values? If so what are these columns?\n",
    "\n",
    "Feel free to add additional cells for more exploration. Make sure to comment what you find!"
   ],
   "metadata": {}
  },
  {
   "cell_type": "code",
   "execution_count": 75,
   "source": [
    "websites.info()"
   ],
   "outputs": [
    {
     "output_type": "stream",
     "name": "stdout",
     "text": [
      "<class 'pandas.core.frame.DataFrame'>\n",
      "RangeIndex: 1781 entries, 0 to 1780\n",
      "Data columns (total 21 columns):\n",
      " #   Column                     Non-Null Count  Dtype  \n",
      "---  ------                     --------------  -----  \n",
      " 0   URL                        1781 non-null   object \n",
      " 1   URL_LENGTH                 1781 non-null   int64  \n",
      " 2   NUMBER_SPECIAL_CHARACTERS  1781 non-null   int64  \n",
      " 3   CHARSET                    1781 non-null   object \n",
      " 4   SERVER                     1780 non-null   object \n",
      " 5   CONTENT_LENGTH             969 non-null    float64\n",
      " 6   WHOIS_COUNTRY              1781 non-null   object \n",
      " 7   WHOIS_STATEPRO             1781 non-null   object \n",
      " 8   WHOIS_REGDATE              1781 non-null   object \n",
      " 9   WHOIS_UPDATED_DATE         1781 non-null   object \n",
      " 10  TCP_CONVERSATION_EXCHANGE  1781 non-null   int64  \n",
      " 11  DIST_REMOTE_TCP_PORT       1781 non-null   int64  \n",
      " 12  REMOTE_IPS                 1781 non-null   int64  \n",
      " 13  APP_BYTES                  1781 non-null   int64  \n",
      " 14  SOURCE_APP_PACKETS         1781 non-null   int64  \n",
      " 15  REMOTE_APP_PACKETS         1781 non-null   int64  \n",
      " 16  SOURCE_APP_BYTES           1781 non-null   int64  \n",
      " 17  REMOTE_APP_BYTES           1781 non-null   int64  \n",
      " 18  APP_PACKETS                1781 non-null   int64  \n",
      " 19  DNS_QUERY_TIMES            1780 non-null   float64\n",
      " 20  Type                       1781 non-null   int64  \n",
      "dtypes: float64(2), int64(12), object(7)\n",
      "memory usage: 292.3+ KB\n"
     ]
    }
   ],
   "metadata": {}
  },
  {
   "cell_type": "code",
   "execution_count": 76,
   "source": [
    "cat_cols = list((websites.select_dtypes(exclude=[np.number])).columns)\n",
    "num_cols = list((websites.select_dtypes(include=[np.float,np.int])).columns)"
   ],
   "outputs": [
    {
     "output_type": "stream",
     "name": "stderr",
     "text": [
      "/Users/ivan.repilado/miniconda3/envs/ironhack/lib/python3.7/site-packages/ipykernel_launcher.py:2: DeprecationWarning: `np.float` is a deprecated alias for the builtin `float`. To silence this warning, use `float` by itself. Doing this will not modify any behavior and is safe. If you specifically wanted the numpy scalar type, use `np.float64` here.\n",
      "Deprecated in NumPy 1.20; for more details and guidance: https://numpy.org/devdocs/release/1.20.0-notes.html#deprecations\n",
      "  \n",
      "/Users/ivan.repilado/miniconda3/envs/ironhack/lib/python3.7/site-packages/ipykernel_launcher.py:2: DeprecationWarning: `np.int` is a deprecated alias for the builtin `int`. To silence this warning, use `int` by itself. Doing this will not modify any behavior and is safe. When replacing `np.int`, you may wish to use e.g. `np.int64` or `np.int32` to specify the precision. If you wish to review your current use, check the release note link for additional information.\n",
      "Deprecated in NumPy 1.20; for more details and guidance: https://numpy.org/devdocs/release/1.20.0-notes.html#deprecations\n",
      "  \n"
     ]
    }
   ],
   "metadata": {}
  },
  {
   "cell_type": "code",
   "execution_count": 77,
   "source": [
    "cat_cols = list((websites.select_dtypes(exclude=[np.number])).columns)\n",
    "cat_list = []\n",
    "for col in cat_cols:\n",
    "    cat = websites[col].unique()\n",
    "    cat_num = len(cat)\n",
    "    cat_dict = {\"categorical_variable\":col,\n",
    "                \"number_of_possible_values\":cat_num,\n",
    "                \"values\":cat}\n",
    "    cat_list.append(cat_dict)\n",
    "    \n",
    "categories = pd.DataFrame(cat_list).sort_values(by=\"number_of_possible_values\",\n",
    "                                                ascending=False).reset_index(drop=True)\n",
    "categories"
   ],
   "outputs": [
    {
     "output_type": "execute_result",
     "data": {
      "text/html": [
       "<div>\n",
       "<style scoped>\n",
       "    .dataframe tbody tr th:only-of-type {\n",
       "        vertical-align: middle;\n",
       "    }\n",
       "\n",
       "    .dataframe tbody tr th {\n",
       "        vertical-align: top;\n",
       "    }\n",
       "\n",
       "    .dataframe thead th {\n",
       "        text-align: right;\n",
       "    }\n",
       "</style>\n",
       "<table border=\"1\" class=\"dataframe\">\n",
       "  <thead>\n",
       "    <tr style=\"text-align: right;\">\n",
       "      <th></th>\n",
       "      <th>categorical_variable</th>\n",
       "      <th>number_of_possible_values</th>\n",
       "      <th>values</th>\n",
       "    </tr>\n",
       "  </thead>\n",
       "  <tbody>\n",
       "    <tr>\n",
       "      <th>0</th>\n",
       "      <td>URL</td>\n",
       "      <td>1781</td>\n",
       "      <td>[M0_109, B0_2314, B0_911, B0_113, B0_403, B0_2...</td>\n",
       "    </tr>\n",
       "    <tr>\n",
       "      <th>1</th>\n",
       "      <td>WHOIS_REGDATE</td>\n",
       "      <td>891</td>\n",
       "      <td>[10/10/2015 18:21, None, 7/10/1997 4:00, 12/05...</td>\n",
       "    </tr>\n",
       "    <tr>\n",
       "      <th>2</th>\n",
       "      <td>WHOIS_UPDATED_DATE</td>\n",
       "      <td>594</td>\n",
       "      <td>[None, 12/09/2013 0:45, 11/04/2017 0:00, 3/10/...</td>\n",
       "    </tr>\n",
       "    <tr>\n",
       "      <th>3</th>\n",
       "      <td>SERVER</td>\n",
       "      <td>240</td>\n",
       "      <td>[nginx, Apache/2.4.10, Microsoft-HTTPAPI/2.0, ...</td>\n",
       "    </tr>\n",
       "    <tr>\n",
       "      <th>4</th>\n",
       "      <td>WHOIS_STATEPRO</td>\n",
       "      <td>182</td>\n",
       "      <td>[None, AK, TX, Mahe, CO, FL, Kansas, Novosibir...</td>\n",
       "    </tr>\n",
       "    <tr>\n",
       "      <th>5</th>\n",
       "      <td>WHOIS_COUNTRY</td>\n",
       "      <td>49</td>\n",
       "      <td>[None, US, SC, GB, UK, RU, AU, CA, PA, se, IN,...</td>\n",
       "    </tr>\n",
       "    <tr>\n",
       "      <th>6</th>\n",
       "      <td>CHARSET</td>\n",
       "      <td>9</td>\n",
       "      <td>[iso-8859-1, UTF-8, us-ascii, ISO-8859-1, utf-...</td>\n",
       "    </tr>\n",
       "  </tbody>\n",
       "</table>\n",
       "</div>"
      ],
      "text/plain": [
       "  categorical_variable  number_of_possible_values  \\\n",
       "0                  URL                       1781   \n",
       "1        WHOIS_REGDATE                        891   \n",
       "2   WHOIS_UPDATED_DATE                        594   \n",
       "3               SERVER                        240   \n",
       "4       WHOIS_STATEPRO                        182   \n",
       "5        WHOIS_COUNTRY                         49   \n",
       "6              CHARSET                          9   \n",
       "\n",
       "                                              values  \n",
       "0  [M0_109, B0_2314, B0_911, B0_113, B0_403, B0_2...  \n",
       "1  [10/10/2015 18:21, None, 7/10/1997 4:00, 12/05...  \n",
       "2  [None, 12/09/2013 0:45, 11/04/2017 0:00, 3/10/...  \n",
       "3  [nginx, Apache/2.4.10, Microsoft-HTTPAPI/2.0, ...  \n",
       "4  [None, AK, TX, Mahe, CO, FL, Kansas, Novosibir...  \n",
       "5  [None, US, SC, GB, UK, RU, AU, CA, PA, se, IN,...  \n",
       "6  [iso-8859-1, UTF-8, us-ascii, ISO-8859-1, utf-...  "
      ]
     },
     "metadata": {},
     "execution_count": 77
    }
   ],
   "metadata": {}
  },
  {
   "cell_type": "code",
   "execution_count": 78,
   "source": [
    "features = websites.drop(labels='Type', axis=1)\n",
    "target = websites['Type']"
   ],
   "outputs": [],
   "metadata": {}
  },
  {
   "cell_type": "markdown",
   "source": [
    "Como mucho, podremos categorizar la feature 'Charset', ya que tiene 9 valores diferentes. El resto, tiene demasiados valores como para categorizarlos."
   ],
   "metadata": {}
  },
  {
   "cell_type": "markdown",
   "source": [
    "#### Next, evaluate if the columns in this dataset are strongly correlated.\n",
    "\n",
    "In class, we discussed that we are concerned if our dataset has strongly correlated columns because if this is the case we need to choose certain ML algorithms instead of others. We need to evaluate this for our dataset now.\n",
    "\n",
    "Luckily, most of the columns in this dataset are ordinal which makes things a lot easier for us. In the cells below, evaluate the level of collinearity of the data.\n",
    "\n",
    "We provide some general directions for you to consult in order to complete this step:\n",
    "\n",
    "1. You will create a correlation matrix using the numeric columns in the dataset.\n",
    "\n",
    "1. Create a heatmap using `seaborn` to visualize which columns have high collinearity.\n",
    "\n",
    "1. Comment on which columns you might need to remove due to high collinearity."
   ],
   "metadata": {}
  },
  {
   "cell_type": "code",
   "execution_count": 79,
   "source": [
    "plt.figure(figsize=(10,11))\n",
    "sns.heatmap(websites.corr(),annot=True)\n",
    "plt.plot()\n"
   ],
   "outputs": [
    {
     "output_type": "execute_result",
     "data": {
      "text/plain": [
       "[]"
      ]
     },
     "metadata": {},
     "execution_count": 79
    },
    {
     "output_type": "display_data",
     "data": {
      "image/png": "[encoded data removed]",
      "text/plain": [
       "<Figure size 720x792 with 2 Axes>"
      ]
     },
     "metadata": {
      "needs_background": "light"
     }
    }
   ],
   "metadata": {}
  },
  {
   "cell_type": "markdown",
   "source": [
    "Las features con una correlación mas altas, según el heatmap serían: Source_App_Packets, Remote_App_Packets, Source_App_Bytes"
   ],
   "metadata": {}
  },
  {
   "cell_type": "markdown",
   "source": [
    "# Challenge 2 - Remove Column Collinearity.\n",
    "\n",
    "From the heatmap you created, you should have seen at least 3 columns that can be removed due to high collinearity. Remove these columns from the dataset.\n",
    "\n",
    "Note that you should remove as few columns as you can. You don't have to remove all the columns at once. But instead, try removing one column, then produce the heatmap again to determine if additional columns should be removed. As long as the dataset no longer contains columns that are correlated for over 90%, you can stop. Also, keep in mind when two columns have high collinearity, you only need to remove one of them but not both.\n",
    "\n",
    "In the cells below, remove as few columns as you can to eliminate the high collinearity in the dataset. Make sure to comment on your way so that the instructional team can learn about your thinking process which allows them to give feedback. At the end, print the heatmap again."
   ],
   "metadata": {}
  },
  {
   "cell_type": "code",
   "execution_count": 80,
   "source": [
    "websites.drop(['SOURCE_APP_PACKETS','REMOTE_APP_PACKETS','SOURCE_APP_BYTES'], axis=1, inplace=True)"
   ],
   "outputs": [],
   "metadata": {}
  },
  {
   "cell_type": "markdown",
   "source": [
    "Las 3 features eliminadas sonlas que tienen una correlación mas alta entre ellas, dejando App_Packets para no borrar todas.\n",
    "Además, la correlación con el target es toda las misma (aprox 0.0,34) lo que hace suponer que todas aportan la misma información."
   ],
   "metadata": {}
  },
  {
   "cell_type": "code",
   "execution_count": 81,
   "source": [
    "plt.figure(figsize=(10,11))\n",
    "sns.heatmap(websites.drop(labels='Type',axis=1).corr(),annot=True)\n",
    "plt.plot()"
   ],
   "outputs": [
    {
     "output_type": "execute_result",
     "data": {
      "text/plain": [
       "[]"
      ]
     },
     "metadata": {},
     "execution_count": 81
    },
    {
     "output_type": "display_data",
     "data": {
      "image/png": "[encoded data removed]",
      "text/plain": [
       "<Figure size 720x792 with 2 Axes>"
      ]
     },
     "metadata": {
      "needs_background": "light"
     }
    }
   ],
   "metadata": {}
  },
  {
   "cell_type": "markdown",
   "source": [
    "# Challenge 3 - Handle Missing Values\n",
    "\n",
    "The next step would be handling missing values. **We start by examining the number of missing values in each column, which you will do in the next cell.**"
   ],
   "metadata": {}
  },
  {
   "cell_type": "code",
   "execution_count": 82,
   "source": [
    "websites.isnull().sum()"
   ],
   "outputs": [
    {
     "output_type": "execute_result",
     "data": {
      "text/plain": [
       "URL                            0\n",
       "URL_LENGTH                     0\n",
       "NUMBER_SPECIAL_CHARACTERS      0\n",
       "CHARSET                        0\n",
       "SERVER                         1\n",
       "CONTENT_LENGTH               812\n",
       "WHOIS_COUNTRY                  0\n",
       "WHOIS_STATEPRO                 0\n",
       "WHOIS_REGDATE                  0\n",
       "WHOIS_UPDATED_DATE             0\n",
       "TCP_CONVERSATION_EXCHANGE      0\n",
       "DIST_REMOTE_TCP_PORT           0\n",
       "REMOTE_IPS                     0\n",
       "APP_BYTES                      0\n",
       "REMOTE_APP_BYTES               0\n",
       "APP_PACKETS                    0\n",
       "DNS_QUERY_TIMES                1\n",
       "Type                           0\n",
       "dtype: int64"
      ]
     },
     "metadata": {},
     "execution_count": 82
    }
   ],
   "metadata": {}
  },
  {
   "cell_type": "markdown",
   "source": [
    "If you remember in the previous labs, we drop a column if the column contains a high proportion of missing values. After dropping those problematic columns, we drop the rows with missing values.\n",
    "\n",
    "#### In the cells below, handle the missing values from the dataset. Remember to comment the rationale of your decisions."
   ],
   "metadata": {}
  },
  {
   "cell_type": "code",
   "execution_count": 83,
   "source": [
    "websites.drop(labels='CONTENT_LENGTH', axis=1, inplace= True)"
   ],
   "outputs": [],
   "metadata": {}
  },
  {
   "cell_type": "code",
   "execution_count": 84,
   "source": [
    "websites.dropna(inplace= True) #Borramos las filas con algun nulo"
   ],
   "outputs": [],
   "metadata": {}
  },
  {
   "cell_type": "markdown",
   "source": [
    "En este caso, hemos eliminado la columna 'Content_length', debido al alto numero de valores nulos que hay.\n",
    "En cuanto a Server y DNS_query_times, eliminamos tan solo la fila con el valor nulo."
   ],
   "metadata": {}
  },
  {
   "cell_type": "markdown",
   "source": [
    "#### Again, examine the number of missing values in each column. \n",
    "\n",
    "If all cleaned, proceed. Otherwise, go back and do more cleaning."
   ],
   "metadata": {}
  },
  {
   "cell_type": "code",
   "execution_count": 85,
   "source": [
    "websites.isnull().sum()"
   ],
   "outputs": [
    {
     "output_type": "execute_result",
     "data": {
      "text/plain": [
       "URL                          0\n",
       "URL_LENGTH                   0\n",
       "NUMBER_SPECIAL_CHARACTERS    0\n",
       "CHARSET                      0\n",
       "SERVER                       0\n",
       "WHOIS_COUNTRY                0\n",
       "WHOIS_STATEPRO               0\n",
       "WHOIS_REGDATE                0\n",
       "WHOIS_UPDATED_DATE           0\n",
       "TCP_CONVERSATION_EXCHANGE    0\n",
       "DIST_REMOTE_TCP_PORT         0\n",
       "REMOTE_IPS                   0\n",
       "APP_BYTES                    0\n",
       "REMOTE_APP_BYTES             0\n",
       "APP_PACKETS                  0\n",
       "DNS_QUERY_TIMES              0\n",
       "Type                         0\n",
       "dtype: int64"
      ]
     },
     "metadata": {},
     "execution_count": 85
    }
   ],
   "metadata": {}
  },
  {
   "cell_type": "markdown",
   "source": [
    "# Challenge 4 - Handle `WHOIS_*` Categorical Data"
   ],
   "metadata": {}
  },
  {
   "cell_type": "markdown",
   "source": [
    "There are several categorical columns we need to handle. These columns are:\n",
    "\n",
    "* `URL`\n",
    "* `CHARSET`\n",
    "* `SERVER`\n",
    "* `WHOIS_COUNTRY`\n",
    "* `WHOIS_STATEPRO`\n",
    "* `WHOIS_REGDATE`\n",
    "* `WHOIS_UPDATED_DATE`\n",
    "\n",
    "How to handle string columns is always case by case. Let's start by working on `WHOIS_COUNTRY`. Your steps are:\n",
    "\n",
    "1. List out the unique values of `WHOIS_COUNTRY`.\n",
    "1. Consolidate the country values with consistent country codes. For example, the following values refer to the same country and should use consistent country code:\n",
    "    * `CY` and `Cyprus`\n",
    "    * `US` and `us`\n",
    "    * `SE` and `se`\n",
    "    * `GB`, `United Kingdom`, and `[u'GB'; u'UK']`\n",
    "\n",
    "#### In the cells below, fix the country values as intructed above."
   ],
   "metadata": {}
  },
  {
   "cell_type": "code",
   "execution_count": 14,
   "source": [
    "# Your code here\n"
   ],
   "outputs": [],
   "metadata": {}
  },
  {
   "cell_type": "markdown",
   "source": [
    "Since we have fixed the country values, can we convert this column to ordinal now?\n",
    "\n",
    "Not yet. If you reflect on the previous labs how we handle categorical columns, you probably remember we ended up dropping a lot of those columns because there are too many unique values. Too many unique values in a column is not desirable in machine learning because it makes prediction inaccurate. But there are workarounds under certain conditions. One of the fixable conditions is:\n",
    "\n",
    "#### If a limited number of values account for the majority of data, we can retain these top values and re-label all other rare values.\n",
    "\n",
    "The `WHOIS_COUNTRY` column happens to be this case. You can verify it by print a bar chart of the `value_counts` in the next cell to verify:"
   ],
   "metadata": {}
  },
  {
   "cell_type": "code",
   "execution_count": 15,
   "source": [
    "# Your code here\n"
   ],
   "outputs": [],
   "metadata": {}
  },
  {
   "cell_type": "markdown",
   "source": [
    "#### After verifying, now let's keep the top 10 values of the column and re-label other columns with `OTHER`."
   ],
   "metadata": {}
  },
  {
   "cell_type": "code",
   "execution_count": 16,
   "source": [
    "# Your code here\n"
   ],
   "outputs": [],
   "metadata": {
    "scrolled": true
   }
  },
  {
   "cell_type": "markdown",
   "source": [
    "Now since `WHOIS_COUNTRY` has been re-labelled, we don't need `WHOIS_STATEPRO` any more because the values of the states or provinces may not be relevant any more. We'll drop this column.\n",
    "\n",
    "In addition, we will also drop `WHOIS_REGDATE` and `WHOIS_UPDATED_DATE`. These are the registration and update dates of the website domains. Not of our concerns.\n",
    "\n",
    "#### In the next cell, drop `['WHOIS_STATEPRO', 'WHOIS_REGDATE', 'WHOIS_UPDATED_DATE']`."
   ],
   "metadata": {}
  },
  {
   "cell_type": "code",
   "execution_count": 17,
   "source": [
    "# Your code here\n"
   ],
   "outputs": [],
   "metadata": {}
  },
  {
   "cell_type": "markdown",
   "source": [
    "# Challenge 5 - Handle Remaining Categorical Data & Convert to Ordinal\n",
    "\n",
    "Now print the `dtypes` of the data again. Besides `WHOIS_COUNTRY` which we already fixed, there should be 3 categorical columns left: `URL`, `CHARSET`, and `SERVER`."
   ],
   "metadata": {}
  },
  {
   "cell_type": "code",
   "execution_count": 18,
   "source": [
    "# Your code here\n"
   ],
   "outputs": [],
   "metadata": {}
  },
  {
   "cell_type": "markdown",
   "source": [
    "#### `URL` is easy. We'll simply drop it because it has too many unique values that there's no way for us to consolidate."
   ],
   "metadata": {}
  },
  {
   "cell_type": "code",
   "execution_count": 19,
   "source": [
    "# Your code here\n"
   ],
   "outputs": [],
   "metadata": {}
  },
  {
   "cell_type": "markdown",
   "source": [
    "#### Print the unique value counts of `CHARSET`. You see there are only a few unique values. So we can keep it as it is."
   ],
   "metadata": {}
  },
  {
   "cell_type": "code",
   "execution_count": 20,
   "source": [
    "# Your code here"
   ],
   "outputs": [],
   "metadata": {}
  },
  {
   "cell_type": "markdown",
   "source": [
    "`SERVER` is a little more complicated. Print its unique values and think about how you can consolidate those values.\n",
    "\n",
    "#### Before you think of your own solution, don't read the instructions that come next."
   ],
   "metadata": {}
  },
  {
   "cell_type": "code",
   "execution_count": 21,
   "source": [
    "# Your code here\n"
   ],
   "outputs": [],
   "metadata": {}
  },
  {
   "cell_type": "markdown",
   "source": [
    "![Think Hard](../images/think-hard.jpg)"
   ],
   "metadata": {}
  },
  {
   "cell_type": "code",
   "execution_count": 24,
   "source": [
    "# Your comment here\n"
   ],
   "outputs": [],
   "metadata": {}
  },
  {
   "cell_type": "markdown",
   "source": [
    "Although there are so many unique values in the `SERVER` column, there are actually only 3 main server types: `Microsoft`, `Apache`, and `nginx`. Just check if each `SERVER` value contains any of those server types and re-label them. For `SERVER` values that don't contain any of those substrings, label with `Other`.\n",
    "\n",
    "At the end, your `SERVER` column should only contain 4 unique values: `Microsoft`, `Apache`, `nginx`, and `Other`."
   ],
   "metadata": {}
  },
  {
   "cell_type": "code",
   "execution_count": 25,
   "source": [
    "# Your code here\n"
   ],
   "outputs": [],
   "metadata": {}
  },
  {
   "cell_type": "code",
   "execution_count": 26,
   "source": [
    "# Count `SERVER` value counts here\n"
   ],
   "outputs": [],
   "metadata": {
    "scrolled": false
   }
  },
  {
   "cell_type": "markdown",
   "source": [
    "OK, all our categorical data are fixed now. **Let's convert them to ordinal data using Pandas' `get_dummies` function ([documentation](https://pandas.pydata.org/pandas-docs/stable/generated/pandas.get_dummies.html)).** Make sure you drop the categorical columns by passing `drop_first=True` to `get_dummies` as we don't need them any more. **Also, assign the data with dummy values to a new variable `website_dummy`.**"
   ],
   "metadata": {}
  },
  {
   "cell_type": "code",
   "execution_count": 27,
   "source": [
    "# Your code here\n"
   ],
   "outputs": [],
   "metadata": {}
  },
  {
   "cell_type": "markdown",
   "source": [
    "Now, inspect `website_dummy` to make sure the data and types are intended - there shouldn't be any categorical columns at this point."
   ],
   "metadata": {}
  },
  {
   "cell_type": "code",
   "execution_count": 28,
   "source": [
    "# Your code here\n"
   ],
   "outputs": [],
   "metadata": {}
  },
  {
   "cell_type": "markdown",
   "source": [
    "# Challenge 6 - Modeling, Prediction, and Evaluation\n",
    "\n",
    "We'll start off this section by splitting the data to train and test. **Name your 4 variables `X_train`, `X_test`, `y_train`, and `y_test`. Select 80% of the data for training and 20% for testing.**"
   ],
   "metadata": {}
  },
  {
   "cell_type": "code",
   "execution_count": 29,
   "source": [
    "from sklearn.model_selection import train_test_split\n",
    "\n",
    "# Your code here:\n"
   ],
   "outputs": [],
   "metadata": {}
  },
  {
   "cell_type": "markdown",
   "source": [
    "#### In this lab, we will try two different models and compare our results.\n",
    "\n",
    "The first model we will use in this lab is logistic regression. We have previously learned about logistic regression as a classification algorithm. In the cell below, load `LogisticRegression` from scikit-learn and initialize the model."
   ],
   "metadata": {}
  },
  {
   "cell_type": "code",
   "execution_count": 30,
   "source": [
    "# Your code here:\n",
    "\n"
   ],
   "outputs": [],
   "metadata": {}
  },
  {
   "cell_type": "markdown",
   "source": [
    "Next, fit the model to our training data. We have already separated our data into 4 parts. Use those in your model."
   ],
   "metadata": {}
  },
  {
   "cell_type": "code",
   "execution_count": 31,
   "source": [
    "# Your code here:\n",
    "\n"
   ],
   "outputs": [],
   "metadata": {}
  },
  {
   "cell_type": "markdown",
   "source": [
    "finally, import `confusion_matrix` and `accuracy_score` from `sklearn.metrics` and fit our testing data. Assign the fitted data to `y_pred` and print the confusion matrix as well as the accuracy score"
   ],
   "metadata": {}
  },
  {
   "cell_type": "code",
   "execution_count": 32,
   "source": [
    "# Your code here:\n",
    "\n"
   ],
   "outputs": [],
   "metadata": {}
  },
  {
   "cell_type": "markdown",
   "source": [
    "What are your thoughts on the performance of the model? Write your conclusions below."
   ],
   "metadata": {}
  },
  {
   "cell_type": "code",
   "execution_count": 33,
   "source": [
    "# Your conclusions here:\n",
    "\n"
   ],
   "outputs": [],
   "metadata": {}
  },
  {
   "cell_type": "markdown",
   "source": [
    "#### Our second algorithm is is K-Nearest Neighbors. \n",
    "\n",
    "Though is it not required, we will fit a model using the training data and then test the performance of the model using the testing data. Start by loading `KNeighborsClassifier` from scikit-learn and then initializing and fitting the model. We'll start off with a model where k=3."
   ],
   "metadata": {}
  },
  {
   "cell_type": "code",
   "execution_count": 34,
   "source": [
    "# Your code here:\n",
    "\n"
   ],
   "outputs": [],
   "metadata": {}
  },
  {
   "cell_type": "markdown",
   "source": [
    "To test your model, compute the predicted values for the testing sample and print the confusion matrix as well as the accuracy score."
   ],
   "metadata": {}
  },
  {
   "cell_type": "code",
   "execution_count": 35,
   "source": [
    "# Your code here:\n",
    "\n"
   ],
   "outputs": [],
   "metadata": {}
  },
  {
   "cell_type": "markdown",
   "source": [
    "#### We'll create another K-Nearest Neighbors model with k=5. \n",
    "\n",
    "Initialize and fit the model below and print the confusion matrix and the accuracy score."
   ],
   "metadata": {}
  },
  {
   "cell_type": "code",
   "execution_count": 36,
   "source": [
    "# Your code here:\n",
    "\n"
   ],
   "outputs": [],
   "metadata": {}
  },
  {
   "cell_type": "markdown",
   "source": [
    "Did you see an improvement in the confusion matrix when increasing k to 5? Did you see an improvement in the accuracy score? Write your conclusions below."
   ],
   "metadata": {}
  },
  {
   "cell_type": "code",
   "execution_count": 37,
   "source": [
    "# Your conclusions here:\n",
    "\n"
   ],
   "outputs": [],
   "metadata": {}
  },
  {
   "cell_type": "markdown",
   "source": [
    "# Bonus Challenge - Feature Scaling\n",
    "\n",
    "Problem-solving in machine learning is iterative. You can improve your model prediction with various techniques (there is a sweetspot for the time you spend and the improvement you receive though). Now you've completed only one iteration of ML analysis. There are more iterations you can conduct to make improvements. In order to be able to do that, you will need deeper knowledge in statistics and master more data analysis techniques. In this bootcamp, we don't have time to achieve that advanced goal. But you will make constant efforts after the bootcamp to eventually get there.\n",
    "\n",
    "However, now we do want you to learn one of the advanced techniques which is called *feature scaling*. The idea of feature scaling is to standardize/normalize the range of independent variables or features of the data. This can make the outliers more apparent so that you can remove them. This step needs to happen during Challenge 6 after you split the training and test data because you don't want to split the data again which makes it impossible to compare your results with and without feature scaling. For general concepts about feature scaling, click [here](https://en.wikipedia.org/wiki/Feature_scaling). To read deeper, click [here](https://medium.com/greyatom/why-how-and-when-to-scale-your-features-4b30ab09db5e).\n",
    "\n",
    "In the next cell, attempt to improve your model prediction accuracy by means of feature scaling. A library you can utilize is `sklearn.preprocessing.RobustScaler` ([documentation](https://scikit-learn.org/stable/modules/generated/sklearn.preprocessing.RobustScaler.html)). You'll use the `RobustScaler` to fit and transform your `X_train`, then transform `X_test`. You will use logistic regression to fit and predict your transformed data and obtain the accuracy score in the same way. Compare the accuracy score with your normalized data with the previous accuracy data. Is there an improvement?"
   ],
   "metadata": {}
  },
  {
   "cell_type": "code",
   "execution_count": 38,
   "source": [
    "# Your code here"
   ],
   "outputs": [],
   "metadata": {}
  }
 ],
 "metadata": {
  "kernelspec": {
   "name": "python3",
   "display_name": "Python 3.7.12 64-bit ('ironhack': conda)"
  },
  "language_info": {
   "codemirror_mode": {
    "name": "ipython",
    "version": 3
   },
   "file_extension": ".py",
   "mimetype": "text/x-python",
   "name": "python",
   "nbconvert_exporter": "python",
   "pygments_lexer": "ipython3",
   "version": "3.7.12"
  },
  "interpreter": {
   "hash": "191fdcd26a5ca84f58a127ef5d594d6ffcc31ee3b3ca4138998a92c0047be3f6"
  }
 },
 "nbformat": 4,
 "nbformat_minor": 2
}