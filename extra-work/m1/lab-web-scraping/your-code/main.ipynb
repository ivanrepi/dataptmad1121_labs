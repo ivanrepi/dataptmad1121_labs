{
 "cells": [
  {
   "cell_type": "markdown",
   "source": [
    "# Web Scraping Lab\n",
    "\n",
    "You will find in this notebook some scrapy exercises to practise your scraping skills.\n",
    "\n",
    "**Tips:**\n",
    "\n",
    "- Check the response status code for each request to ensure you have obtained the intended content.\n",
    "- Print the response text in each request to understand the kind of info you are getting and its format.\n",
    "- Check for patterns in the response text to extract the data/info requested in each question.\n",
    "- Visit the urls below and take a look at their source code through Chrome DevTools. You'll need to identify the html tags, special class names, etc used in the html content you are expected to extract.\n",
    "\n",
    "**Resources**:\n",
    "- [Requests library](http://docs.python-requests.org/en/master/#the-user-guide)\n",
    "- [Beautiful Soup Doc](https://www.crummy.com/software/BeautifulSoup/bs4/doc/)\n",
    "- [Urllib](https://docs.python.org/3/library/urllib.html#module-urllib)\n",
    "- [re lib](https://docs.python.org/3/library/re.html)\n",
    "- [lxml lib](https://lxml.de/)\n",
    "- [Scrapy](https://scrapy.org/)\n",
    "- [List of HTTP status codes](https://en.wikipedia.org/wiki/List_of_HTTP_status_codes)\n",
    "- [HTML basics](http://www.simplehtmlguide.com/cheatsheet.php)\n",
    "- [CSS basics](https://www.cssbasics.com/#page_start)"
   ],
   "metadata": {}
  },
  {
   "cell_type": "markdown",
   "source": [
    "#### Below are the libraries and modules you may need. `requests`,  `BeautifulSoup` and `pandas` are already imported for you. If you prefer to use additional libraries feel free to do it."
   ],
   "metadata": {}
  },
  {
   "cell_type": "code",
   "execution_count": 9,
   "source": [
    "import requests\n",
    "from bs4 import BeautifulSoup\n",
    "import pandas as pd\n",
    "import re"
   ],
   "outputs": [],
   "metadata": {}
  },
  {
   "cell_type": "markdown",
   "source": [
    "#### Download, parse (using BeautifulSoup), and print the content from the Trending Developers page from GitHub:"
   ],
   "metadata": {}
  },
  {
   "cell_type": "code",
   "execution_count": 10,
   "source": [
    "# This is the url you will scrape in this exercise\n",
    "url = 'https://github.com/trending/developers'\n"
   ],
   "outputs": [],
   "metadata": {}
  },
  {
   "cell_type": "code",
   "execution_count": 11,
   "source": [
    "html_response = requests.get(url).content\n",
    "soup = BeautifulSoup(html_response, \"html.parser\") "
   ],
   "outputs": [],
   "metadata": {}
  },
  {
   "cell_type": "markdown",
   "source": [
    "#### Display the names of the trending developers retrieved in the previous step.\n",
    "\n",
    "Your output should be a Python list of developer names. Each name should not contain any html tag.\n",
    "\n",
    "**Instructions:**\n",
    "\n",
    "1. Find out the html tag and class names used for the developer names. You can achieve this using Chrome DevTools.\n",
    "\n",
    "1. Use BeautifulSoup to extract all the html elements that contain the developer names.\n",
    "\n",
    "1. Use string manipulation techniques to replace whitespaces and linebreaks (i.e. `\\n`) in the *text* of each html element. Use a list to store the clean names.\n",
    "\n",
    "1. Print the list of names.\n",
    "\n",
    "Your output should look like below:\n",
    "\n",
    "```\n",
    "['trimstray (@trimstray)',\n",
    " 'joewalnes (JoeWalnes)',\n",
    " 'charlax (Charles-AxelDein)',\n",
    " 'ForrestKnight (ForrestKnight)',\n",
    " 'revery-ui (revery-ui)',\n",
    " 'alibaba (Alibaba)',\n",
    " 'Microsoft (Microsoft)',\n",
    " 'github (GitHub)',\n",
    " 'facebook (Facebook)',\n",
    " 'boazsegev (Bo)',\n",
    " 'google (Google)',\n",
    " 'cloudfetch',\n",
    " 'sindresorhus (SindreSorhus)',\n",
    " 'tensorflow',\n",
    " 'apache (TheApacheSoftwareFoundation)',\n",
    " 'DevonCrawford (DevonCrawford)',\n",
    " 'ARMmbed (ArmMbed)',\n",
    " 'vuejs (vuejs)',\n",
    " 'fastai (fast.ai)',\n",
    " 'QiShaoXuan (Qi)',\n",
    " 'joelparkerhenderson (JoelParkerHenderson)',\n",
    " 'torvalds (LinusTorvalds)',\n",
    " 'CyC2018',\n",
    " 'komeiji-satori (神楽坂覚々)',\n",
    " 'script-8']\n",
    " ```"
   ],
   "metadata": {}
  },
  {
   "cell_type": "code",
   "execution_count": 12,
   "source": [
    "trending_developers = [element.a.text for element in soup.find_all(\"h1\", {\"class\": \"h3 lh-condensed\"})]\n",
    "trending_developers_list=[dev.replace(\"\\n\",\"\").strip() for dev in trending_developers]\n",
    "trending_developers_list"
   ],
   "outputs": [
    {
     "output_type": "execute_result",
     "data": {
      "text/plain": [
       "['Jared Palmer',\n",
       " 'Geoff Bourne',\n",
       " 'Mathias Fußenegger',\n",
       " 'Florian Roth',\n",
       " 'Guillaume Gomez',\n",
       " 'Henrik Rydgård',\n",
       " 'Jan De Dobbeleer',\n",
       " 'Yo-An Lin',\n",
       " 'Marten Seemann',\n",
       " 'Xaymar',\n",
       " 'David Tolnay',\n",
       " 'snipe',\n",
       " 'XhmikosR',\n",
       " 'Yann Collet',\n",
       " 'bdring',\n",
       " 'Samuel Colvin',\n",
       " 'Alex Gaynor',\n",
       " 'Nico Schlömer',\n",
       " 'Yair Morgenstern',\n",
       " 'Federico Brigante',\n",
       " 'Barry vd. Heuvel',\n",
       " 'MichaIng',\n",
       " 'Dan Davison',\n",
       " 'David Peter',\n",
       " 'Jelle Zijlstra']"
      ]
     },
     "metadata": {},
     "execution_count": 12
    }
   ],
   "metadata": {}
  },
  {
   "cell_type": "markdown",
   "source": [
    "#### Display the trending Python repositories in GitHub.\n",
    "\n",
    "The steps to solve this problem is similar to the previous one except that you need to find out the repository names instead of developer names."
   ],
   "metadata": {}
  },
  {
   "cell_type": "code",
   "execution_count": 13,
   "source": [
    "# This is the url you will scrape in this exercise\n",
    "url_2 = 'https://github.com/trending/python?since=daily'"
   ],
   "outputs": [],
   "metadata": {}
  },
  {
   "cell_type": "code",
   "execution_count": 14,
   "source": [
    "html_response_2 = requests.get(url_2).content\n",
    "soup_2 = BeautifulSoup(html_response_2, \"html.parser\") \n",
    "trending_repos = [element.a.text for element in soup_2.find_all(\"h1\", {\"class\": \"h3 lh-condensed\"})]\n",
    "trending_repos_list=[repo.replace(\"\\n\",\"\").replace(\" \",\"\").replace(\"/\",\" / \") for repo in trending_repos]\n",
    "trending_repos_list"
   ],
   "outputs": [
    {
     "output_type": "execute_result",
     "data": {
      "text/plain": [
       "['TencentARC / GFPGAN',\n",
       " 'SeanDaBlack / KelloggBot',\n",
       " 'mpcabete / bombcrypto-bot',\n",
       " 'sxyu / svox2',\n",
       " 'floodsung / Deep-Learning-Papers-Reading-Roadmap',\n",
       " 'megadose / toutatis',\n",
       " 'oppia / oppia',\n",
       " 'swisskyrepo / PayloadsAllTheThings',\n",
       " 'yoshiko2 / AV_Data_Capture',\n",
       " 'corpnewt / gibMacOS',\n",
       " 'yt-dlp / yt-dlp',\n",
       " 'BugScanTeam / DNSLog',\n",
       " 'sherlock-project / sherlock',\n",
       " 'tinkoff-ai / etna',\n",
       " 'hananelroe / muck-chains-stopper-bot',\n",
       " 'anasty17 / mirror-leech-telegram-bot',\n",
       " 'python-telegram-bot / python-telegram-bot',\n",
       " 'openai / gym',\n",
       " 'd2l-ai / d2l-zh',\n",
       " 'home-assistant / core',\n",
       " 'munki / macadmin-scripts',\n",
       " 'TheAlgorithms / Python',\n",
       " 'benbusby / whoogle-search',\n",
       " 'GamestonkTerminal / GamestonkTerminal',\n",
       " 'rentruewang / koila']"
      ]
     },
     "metadata": {},
     "execution_count": 14
    }
   ],
   "metadata": {}
  },
  {
   "cell_type": "markdown",
   "source": [
    "#### Display all the image links from Walt Disney wikipedia page."
   ],
   "metadata": {}
  },
  {
   "cell_type": "code",
   "execution_count": 15,
   "source": [
    "# This is the url you will scrape in this exercise\n",
    "url_3 = 'https://en.wikipedia.org/wiki/Walt_Disney'"
   ],
   "outputs": [],
   "metadata": {}
  },
  {
   "cell_type": "code",
   "execution_count": 16,
   "source": [
    "html_response_3 = requests.get(url_3).content\n",
    "soup_3 = BeautifulSoup(html_response_3, \"html.parser\") \n",
    "images = [\"https://en.wikipedia.org/\"+re.findall(\"href=[\\\"\\'](.*?)[\\\"\\']\", str(element))[0] for element in soup_3.find_all(\"a\", {\"class\": \"image\"})]\n",
    "images"
   ],
   "outputs": [
    {
     "output_type": "execute_result",
     "data": {
      "text/plain": [
       "['https://en.wikipedia.org//wiki/File:Walt_Disney_1946.JPG',\n",
       " 'https://en.wikipedia.org//wiki/File:Walt_Disney_1942_signature.svg',\n",
       " 'https://en.wikipedia.org//wiki/File:Walt_Disney_envelope_ca._1921.jpg',\n",
       " 'https://en.wikipedia.org//wiki/File:Trolley_Troubles_poster.jpg',\n",
       " 'https://en.wikipedia.org//wiki/File:Steamboat-willie.jpg',\n",
       " 'https://en.wikipedia.org//wiki/File:Walt_Disney_1935.jpg',\n",
       " 'https://en.wikipedia.org//wiki/File:Walt_Disney_Snow_white_1937_trailer_screenshot_(13).jpg',\n",
       " 'https://en.wikipedia.org//wiki/File:Disney_drawing_goofy.jpg',\n",
       " 'https://en.wikipedia.org//wiki/File:DisneySchiphol1951.jpg',\n",
       " 'https://en.wikipedia.org//wiki/File:WaltDisneyplansDisneylandDec1954.jpg',\n",
       " 'https://en.wikipedia.org//wiki/File:Walt_disney_portrait_right.jpg',\n",
       " 'https://en.wikipedia.org//wiki/File:Walt_Disney_Grave.JPG',\n",
       " 'https://en.wikipedia.org//wiki/File:Roy_O._Disney_with_Company_at_Press_Conference.jpg',\n",
       " 'https://en.wikipedia.org//wiki/File:Disney_Oscar_1953_(cropped).jpg',\n",
       " 'https://en.wikipedia.org//wiki/File:Disney1968.jpg',\n",
       " 'https://en.wikipedia.org//wiki/File:Disneyland_Resort_logo.svg',\n",
       " 'https://en.wikipedia.org//wiki/File:Animation_disc.svg',\n",
       " 'https://en.wikipedia.org//wiki/File:P_vip.svg',\n",
       " 'https://en.wikipedia.org//wiki/File:Magic_Kingdom_castle.jpg',\n",
       " 'https://en.wikipedia.org//wiki/File:Video-x-generic.svg',\n",
       " 'https://en.wikipedia.org//wiki/File:Flag_of_Los_Angeles_County,_California.svg',\n",
       " 'https://en.wikipedia.org//wiki/File:Blank_television_set.svg',\n",
       " 'https://en.wikipedia.org//wiki/File:Flag_of_the_United_States.svg']"
      ]
     },
     "metadata": {},
     "execution_count": 16
    }
   ],
   "metadata": {}
  },
  {
   "cell_type": "markdown",
   "source": [
    "#### Retrieve an arbitary Wikipedia page of \"Python\" and create a list of links on that page."
   ],
   "metadata": {}
  },
  {
   "cell_type": "code",
   "execution_count": 17,
   "source": [
    "# This is the url you will scrape in this exercise\n",
    "url_4 ='https://en.wikipedia.org/wiki/Python' "
   ],
   "outputs": [],
   "metadata": {}
  },
  {
   "cell_type": "code",
   "execution_count": 18,
   "source": [
    "soup_4 = BeautifulSoup(requests.get(url_4).content, \"html.parser\") \n",
    "links=[links for links in soup_4.find_all(\"li\")]\n",
    "links_list=[re.findall(\"href=[\\\"\\'](.*?)[\\\"\\']\", str(i)) for i in links]\n",
    "links_list"
   ],
   "outputs": [
    {
     "output_type": "execute_result",
     "data": {
      "text/plain": [
       "[['/wiki/Pythonidae', '/wiki/Python_(genus)'],\n",
       " ['/wiki/Python_(genus)'],\n",
       " ['#Computing'],\n",
       " ['#People'],\n",
       " ['#Roller_coasters'],\n",
       " ['#Vehicles'],\n",
       " ['#Weaponry'],\n",
       " ['#Other_uses'],\n",
       " ['#See_also'],\n",
       " ['/wiki/Python_(programming_language)'],\n",
       " ['/wiki/CMU_Common_Lisp'],\n",
       " ['/wiki/PERQ#PERQ_3'],\n",
       " ['/wiki/Python_of_Aenus'],\n",
       " ['/wiki/Python_(painter)'],\n",
       " ['/wiki/Python_of_Byzantium'],\n",
       " ['/wiki/Python_of_Catana'],\n",
       " ['/wiki/Python_Anghelo'],\n",
       " ['/wiki/Python_(Efteling)'],\n",
       " ['/wiki/Python_(Busch_Gardens_Tampa_Bay)'],\n",
       " ['/wiki/Python_(Coney_Island,_Cincinnati,_Ohio)'],\n",
       " ['/wiki/Python_(automobile_maker)'],\n",
       " ['/wiki/Python_(Ford_prototype)'],\n",
       " ['/wiki/Python_(missile)'],\n",
       " ['/wiki/Python_(nuclear_primary)'],\n",
       " ['/wiki/Colt_Python'],\n",
       " ['/wiki/PYTHON'],\n",
       " ['/wiki/Python_(film)'],\n",
       " ['/wiki/Python_(mythology)'],\n",
       " ['/wiki/Monty_Python', '/wiki/Python_(Monty)_Pictures'],\n",
       " ['/wiki/Python_(Monty)_Pictures'],\n",
       " ['/wiki/Cython'],\n",
       " ['/wiki/Pyton'],\n",
       " ['/wiki/Pithon'],\n",
       " ['/wiki/Category:Disambiguation_pages'],\n",
       " ['/wiki/Category:Human_name_disambiguation_pages'],\n",
       " ['/wiki/Category:Disambiguation_pages_with_given-name-holder_lists'],\n",
       " ['/wiki/Category:Disambiguation_pages_with_short_descriptions'],\n",
       " ['/wiki/Category:Short_description_is_different_from_Wikidata'],\n",
       " ['/wiki/Category:All_article_disambiguation_pages'],\n",
       " ['/wiki/Category:All_disambiguation_pages'],\n",
       " ['/wiki/Category:Animal_common_name_disambiguation_pages'],\n",
       " [],\n",
       " ['/wiki/Special:MyTalk'],\n",
       " ['/wiki/Special:MyContributions'],\n",
       " ['/w/index.php?title=Special:CreateAccount&amp;returnto=Python'],\n",
       " ['/w/index.php?title=Special:UserLogin&amp;returnto=Python'],\n",
       " ['/wiki/Python'],\n",
       " ['/wiki/Talk:Python'],\n",
       " ['/wiki/Python'],\n",
       " ['/w/index.php?title=Python&amp;action=edit'],\n",
       " ['/w/index.php?title=Python&amp;action=history'],\n",
       " ['/wiki/Main_Page'],\n",
       " ['/wiki/Wikipedia:Contents'],\n",
       " ['/wiki/Portal:Current_events'],\n",
       " ['/wiki/Special:Random'],\n",
       " ['/wiki/Wikipedia:About'],\n",
       " ['//en.wikipedia.org/wiki/Wikipedia:Contact_us'],\n",
       " ['https://donate.wikimedia.org/wiki/Special:FundraiserRedirector?utm_source=donate&amp;utm_medium=sidebar&amp;utm_campaign=C13_en.wikipedia.org&amp;uselang=en'],\n",
       " ['/wiki/Help:Contents'],\n",
       " ['/wiki/Help:Introduction'],\n",
       " ['/wiki/Wikipedia:Community_portal'],\n",
       " ['/wiki/Special:RecentChanges'],\n",
       " ['/wiki/Wikipedia:File_Upload_Wizard'],\n",
       " ['/wiki/Special:WhatLinksHere/Python'],\n",
       " ['/wiki/Special:RecentChangesLinked/Python'],\n",
       " ['/wiki/Wikipedia:File_Upload_Wizard'],\n",
       " ['/wiki/Special:SpecialPages'],\n",
       " ['/w/index.php?title=Python&amp;oldid=1058841632'],\n",
       " ['/w/index.php?title=Python&amp;action=info'],\n",
       " ['/w/index.php?title=Special:CiteThisPage&amp;page=Python&amp;id=1058841632&amp;wpFormIdentifier=titleform'],\n",
       " ['https://www.wikidata.org/wiki/Special:EntityPage/Q747452'],\n",
       " ['/w/index.php?title=Special:DownloadAsPdf&amp;page=Python&amp;action=show-download-screen'],\n",
       " ['/w/index.php?title=Python&amp;printable=yes'],\n",
       " ['https://commons.wikimedia.org/wiki/Category:Python'],\n",
       " ['https://af.wikipedia.org/wiki/Python'],\n",
       " ['https://als.wikipedia.org/wiki/Python'],\n",
       " ['https://ar.wikipedia.org/wiki/%D8%A8%D8%A7%D9%8A%D8%AB%D9%88%D9%86_(%D8%AA%D9%88%D8%B6%D9%8A%D8%AD)'],\n",
       " ['https://az.wikipedia.org/wiki/Python'],\n",
       " ['https://bn.wikipedia.org/wiki/%E0%A6%AA%E0%A6%BE%E0%A6%87%E0%A6%A5%E0%A6%A8_(%E0%A6%A6%E0%A7%8D%E0%A6%AC%E0%A7%8D%E0%A6%AF%E0%A6%B0%E0%A7%8D%E0%A6%A5%E0%A6%A4%E0%A6%BE_%E0%A6%A8%E0%A6%BF%E0%A6%B0%E0%A6%B8%E0%A6%A8)'],\n",
       " ['https://be.wikipedia.org/wiki/Python'],\n",
       " ['https://bg.wikipedia.org/wiki/%D0%9F%D0%B8%D1%82%D0%BE%D0%BD_(%D0%BF%D0%BE%D1%8F%D1%81%D0%BD%D0%B5%D0%BD%D0%B8%D0%B5)'],\n",
       " ['https://cs.wikipedia.org/wiki/Python_(rozcestn%C3%ADk)'],\n",
       " ['https://da.wikipedia.org/wiki/Python'],\n",
       " ['https://de.wikipedia.org/wiki/Python'],\n",
       " ['https://eo.wikipedia.org/wiki/Pitono_(apartigilo)'],\n",
       " ['https://eu.wikipedia.org/wiki/Python_(argipena)'],\n",
       " ['https://fa.wikipedia.org/wiki/%D9%BE%D8%A7%DB%8C%D8%AA%D9%88%D9%86'],\n",
       " ['https://fr.wikipedia.org/wiki/Python'],\n",
       " ['https://ko.wikipedia.org/wiki/%ED%8C%8C%EC%9D%B4%EC%84%A0'],\n",
       " ['https://hr.wikipedia.org/wiki/Python_(razdvojba)'],\n",
       " ['https://io.wikipedia.org/wiki/Pitono'],\n",
       " ['https://id.wikipedia.org/wiki/Python'],\n",
       " ['https://ia.wikipedia.org/wiki/Python_(disambiguation)'],\n",
       " ['https://is.wikipedia.org/wiki/Python_(a%C3%B0greining)'],\n",
       " ['https://it.wikipedia.org/wiki/Python_(disambigua)'],\n",
       " ['https://he.wikipedia.org/wiki/%D7%A4%D7%99%D7%AA%D7%95%D7%9F'],\n",
       " ['https://ka.wikipedia.org/wiki/%E1%83%9E%E1%83%98%E1%83%97%E1%83%9D%E1%83%9C%E1%83%98_(%E1%83%9B%E1%83%A0%E1%83%90%E1%83%95%E1%83%90%E1%83%9A%E1%83%9B%E1%83%9C%E1%83%98%E1%83%A8%E1%83%95%E1%83%9C%E1%83%94%E1%83%9A%E1%83%9D%E1%83%95%E1%83%90%E1%83%9C%E1%83%98)'],\n",
       " ['https://kg.wikipedia.org/wiki/Mboma_(nyoka)'],\n",
       " ['https://la.wikipedia.org/wiki/Python_(discretiva)'],\n",
       " ['https://lb.wikipedia.org/wiki/Python'],\n",
       " ['https://hu.wikipedia.org/wiki/Python_(egy%C3%A9rtelm%C5%B1s%C3%ADt%C5%91_lap)'],\n",
       " ['https://mr.wikipedia.org/wiki/%E0%A4%AA%E0%A4%BE%E0%A4%AF%E0%A4%A5%E0%A5%89%E0%A4%A8_(%E0%A4%86%E0%A4%9C%E0%A5%8D%E0%A4%9E%E0%A4%BE%E0%A4%B5%E0%A4%B2%E0%A5%80_%E0%A4%AD%E0%A4%BE%E0%A4%B7%E0%A4%BE)'],\n",
       " ['https://nl.wikipedia.org/wiki/Python'],\n",
       " ['https://ja.wikipedia.org/wiki/%E3%83%91%E3%82%A4%E3%82%BD%E3%83%B3'],\n",
       " ['https://no.wikipedia.org/wiki/Pyton'],\n",
       " ['https://pl.wikipedia.org/wiki/Pyton'],\n",
       " ['https://pt.wikipedia.org/wiki/Python_(desambigua%C3%A7%C3%A3o)'],\n",
       " ['https://ru.wikipedia.org/wiki/Python_(%D0%B7%D0%BD%D0%B0%D1%87%D0%B5%D0%BD%D0%B8%D1%8F)'],\n",
       " ['https://sk.wikipedia.org/wiki/Python'],\n",
       " ['https://sr.wikipedia.org/wiki/%D0%9F%D0%B8%D1%82%D0%BE%D0%BD_(%D0%B2%D0%B8%D1%88%D0%B5%D0%B7%D0%BD%D0%B0%D1%87%D0%BD%D0%B0_%D0%BE%D0%B4%D1%80%D0%B5%D0%B4%D0%BD%D0%B8%D1%86%D0%B0)'],\n",
       " ['https://sh.wikipedia.org/wiki/Python'],\n",
       " ['https://fi.wikipedia.org/wiki/Python'],\n",
       " ['https://sv.wikipedia.org/wiki/Pyton'],\n",
       " ['https://th.wikipedia.org/wiki/%E0%B9%84%E0%B8%9E%E0%B8%97%E0%B8%AD%E0%B8%99'],\n",
       " ['https://tr.wikipedia.org/wiki/Python'],\n",
       " ['https://uk.wikipedia.org/wiki/%D0%9F%D1%96%D1%84%D0%BE%D0%BD'],\n",
       " ['https://ur.wikipedia.org/wiki/%D9%BE%D8%A7%D8%A6%DB%8C%D8%AA%DA%BE%D9%88%D9%86'],\n",
       " ['https://vi.wikipedia.org/wiki/Python'],\n",
       " ['https://zh.wikipedia.org/wiki/Python_(%E6%B6%88%E6%AD%A7%E4%B9%89)'],\n",
       " [],\n",
       " ['//en.wikipedia.org/wiki/Wikipedia:Text_of_Creative_Commons_Attribution-ShareAlike_3.0_Unported_License',\n",
       "  '//creativecommons.org/licenses/by-sa/3.0/',\n",
       "  '//foundation.wikimedia.org/wiki/Terms_of_Use',\n",
       "  '//foundation.wikimedia.org/wiki/Privacy_policy',\n",
       "  '//www.wikimediafoundation.org/'],\n",
       " ['https://foundation.wikimedia.org/wiki/Privacy_policy'],\n",
       " ['/wiki/Wikipedia:About'],\n",
       " ['/wiki/Wikipedia:General_disclaimer'],\n",
       " ['//en.wikipedia.org/wiki/Wikipedia:Contact_us'],\n",
       " ['//en.m.wikipedia.org/w/index.php?title=Python&amp;mobileaction=toggle_view_mobile'],\n",
       " ['https://www.mediawiki.org/wiki/Special:MyLanguage/How_to_contribute'],\n",
       " ['https://stats.wikimedia.org/#/en.wikipedia.org'],\n",
       " ['https://foundation.wikimedia.org/wiki/Cookie_statement'],\n",
       " ['https://wikimediafoundation.org/'],\n",
       " ['https://www.mediawiki.org/']]"
      ]
     },
     "metadata": {},
     "execution_count": 18
    }
   ],
   "metadata": {}
  },
  {
   "cell_type": "markdown",
   "source": [
    "#### Find the number of titles that have changed in the United States Code since its last release point."
   ],
   "metadata": {}
  },
  {
   "cell_type": "code",
   "execution_count": 19,
   "source": [
    "# This is the url you will scrape in this exercise\n",
    "url_5 = 'http://uscode.house.gov/download/download.shtml'"
   ],
   "outputs": [],
   "metadata": {}
  },
  {
   "cell_type": "markdown",
   "source": [
    "#### Find a Python list with the top ten FBI's Most Wanted names."
   ],
   "metadata": {}
  },
  {
   "cell_type": "code",
   "execution_count": 20,
   "source": [
    "# This is the url you will scrape in this exercise\n",
    "url_6 = 'https://www.fbi.gov/wanted/topten'\n",
    "soup_6 = BeautifulSoup(requests.get(url_6).content, \"html.parser\") \n",
    "top_wanted=[name.a.text for name in soup_6.find_all(\"h3\", {\"class\": \"title\"})]\n",
    "top_wanted"
   ],
   "outputs": [
    {
     "output_type": "execute_result",
     "data": {
      "text/plain": [
       "['ALEXIS FLORES',\n",
       " 'JOSE RODOLFO VILLARREAL-HERNANDEZ',\n",
       " 'OCTAVIANO JUAREZ-CORRO',\n",
       " 'RAFAEL CARO-QUINTERO',\n",
       " 'YULAN ADONAY ARCHAGA CARIAS',\n",
       " 'EUGENE PALMER',\n",
       " 'BHADRESHKUMAR CHETANBHAI PATEL',\n",
       " 'ALEJANDRO ROSALES CASTILLO',\n",
       " 'ARNOLDO JIMENEZ',\n",
       " 'JASON DEREK BROWN']"
      ]
     },
     "metadata": {},
     "execution_count": 20
    }
   ],
   "metadata": {}
  },
  {
   "cell_type": "markdown",
   "source": [
    "####  Display the 20 latest earthquakes info (date, time, latitude, longitude and region name) by the EMSC as a pandas dataframe."
   ],
   "metadata": {}
  },
  {
   "cell_type": "code",
   "execution_count": 21,
   "source": [
    "# This is the url you will scrape in this exercise\n",
    "url_7 = 'https://www.emsc-csem.org/Earthquake/'\n",
    "\n",
    "#Extract the body of the table\n",
    "soup_7 = BeautifulSoup(requests.get(url_7).text, \"lxml\") \n",
    "table7=soup_7.find(\"tbody\",id=\"tbody\").find_all(\"td\")\n"
   ],
   "outputs": [],
   "metadata": {}
  },
  {
   "cell_type": "code",
   "execution_count": 23,
   "source": [
    "#Extract the titles of the table\n",
    "headers=[]\n",
    "table_headers=soup_7.find(\"tr\",id=\"haut_tableau\")\n",
    "for i in table_headers.find_all(\"th\"):\n",
    "    title=i.text.replace(\"[+]\",\"\").replace(\"[-]\",\"\").strip()\n",
    "    headers.append(title)\n",
    "\n",
    "#Create a dataframe with the headers\n",
    "latests_earthquakes=pd.DataFrame(columns=headers)\n",
    "\n",
    "#Date and Time Column\n",
    "date_time=soup_7.find(\"tbody\",id=\"tbody\").find_all(\"a\")\n",
    "for i in date_time:\n",
    "    if i.find(\"span\"):\n",
    "        i.decompose()\n",
    "latests_earthquakes[\"Date & Time UTC\"]=date_time\n",
    "\n",
    "#Latitude and Longitude Column\n",
    "latitude_longitude=[j.text.replace(\"\\xa0\",\"\").strip() for j in soup_7.find(\"tbody\",id=\"tbody\").find_all(\"td\",{\"class\":\"tabev1\"})]\n",
    "latitude_longitude_letters=[j.text.replace(\"\\xa0\",\"\").strip() for j in soup_7.find(\"tbody\",id=\"tbody\").find_all(\"td\",{\"class\":\"tabev2\"})]\n",
    "\n",
    "for i in latitude_longitude_letters:\n",
    "    if (i!=\"N\" and i!=\"W\" and i!=\"S\" and i!=\"E\"):\n",
    "        latitude_longitude_letters.remove(i)\n",
    "\n",
    "latitude=[]\n",
    "longitude=[]\n",
    "count1=0\n",
    "count2=1\n",
    "while count1 < len(latitude_longitude):\n",
    "    latitude.append(latitude_longitude[count1]+latitude_longitude_letters[count1])\n",
    "    longitude.append(latitude_longitude[count2]+latitude_longitude_letters[count2])\n",
    "    count1+=2\n",
    "    count2+=2\n",
    "\n",
    "latests_earthquakes[\"Latitude degrees\"]=latitude\n",
    "latests_earthquakes[\"Longitude degrees\"]=longitude\n",
    "\n",
    "\n",
    "#Region Name Column\n",
    "region_name=[name.text.replace(\"\\xa0\",\"\").strip() for name in soup_7.find_all(\"td\",{\"class\": \"tb_region\"})]\n",
    "latests_earthquakes[\"Region name\"]=region_name\n",
    "region_name\n",
    "\n",
    "latests_earthquakes=latests_earthquakes.dropna(axis=1)\n",
    "latests_earthquakes[0:29]\n"
   ],
   "outputs": [
    {
     "output_type": "execute_result",
     "data": {
      "text/html": [
       "<div>\n",
       "<style scoped>\n",
       "    .dataframe tbody tr th:only-of-type {\n",
       "        vertical-align: middle;\n",
       "    }\n",
       "\n",
       "    .dataframe tbody tr th {\n",
       "        vertical-align: top;\n",
       "    }\n",
       "\n",
       "    .dataframe thead th {\n",
       "        text-align: right;\n",
       "    }\n",
       "</style>\n",
       "<table border=\"1\" class=\"dataframe\">\n",
       "  <thead>\n",
       "    <tr style=\"text-align: right;\">\n",
       "      <th></th>\n",
       "      <th>Date &amp; Time UTC</th>\n",
       "      <th>Latitude degrees</th>\n",
       "      <th>Longitude degrees</th>\n",
       "      <th>Region name</th>\n",
       "    </tr>\n",
       "  </thead>\n",
       "  <tbody>\n",
       "    <tr>\n",
       "      <th>0</th>\n",
       "      <td>[2021-12-13   12:49:36.1]</td>\n",
       "      <td>33.57N</td>\n",
       "      <td>118.17W</td>\n",
       "      <td>SAN PEDRO CHANNEL, CALIFORNIA</td>\n",
       "    </tr>\n",
       "    <tr>\n",
       "      <th>1</th>\n",
       "      <td>[2021-12-13   12:44:09.0]</td>\n",
       "      <td>31.89S</td>\n",
       "      <td>70.58W</td>\n",
       "      <td>COQUIMBO, CHILE</td>\n",
       "    </tr>\n",
       "    <tr>\n",
       "      <th>2</th>\n",
       "      <td>[2021-12-13   12:39:34.0]</td>\n",
       "      <td>12.97N</td>\n",
       "      <td>121.38E</td>\n",
       "      <td>MINDORO, PHILIPPINES</td>\n",
       "    </tr>\n",
       "    <tr>\n",
       "      <th>3</th>\n",
       "      <td>[2021-12-13   12:26:41.9]</td>\n",
       "      <td>28.55N</td>\n",
       "      <td>17.84W</td>\n",
       "      <td>CANARY ISLANDS, SPAIN REGION</td>\n",
       "    </tr>\n",
       "    <tr>\n",
       "      <th>4</th>\n",
       "      <td>[2021-12-13   12:23:20.0]</td>\n",
       "      <td>7.89S</td>\n",
       "      <td>108.10E</td>\n",
       "      <td>JAVA, INDONESIA</td>\n",
       "    </tr>\n",
       "    <tr>\n",
       "      <th>5</th>\n",
       "      <td>[2021-12-13   12:17:56.0]</td>\n",
       "      <td>12.94N</td>\n",
       "      <td>88.64W</td>\n",
       "      <td>OFFSHORE EL SALVADOR</td>\n",
       "    </tr>\n",
       "    <tr>\n",
       "      <th>6</th>\n",
       "      <td>[2021-12-13   12:16:51.9]</td>\n",
       "      <td>38.52N</td>\n",
       "      <td>23.98E</td>\n",
       "      <td>GREECE</td>\n",
       "    </tr>\n",
       "    <tr>\n",
       "      <th>7</th>\n",
       "      <td>[2021-12-13   12:16:42.3]</td>\n",
       "      <td>66.34N</td>\n",
       "      <td>157.38W</td>\n",
       "      <td>NORTHERN ALASKA</td>\n",
       "    </tr>\n",
       "    <tr>\n",
       "      <th>8</th>\n",
       "      <td>[2021-12-13   12:14:13.0]</td>\n",
       "      <td>58.02N</td>\n",
       "      <td>154.89W</td>\n",
       "      <td>ALASKA PENINSULA</td>\n",
       "    </tr>\n",
       "    <tr>\n",
       "      <th>9</th>\n",
       "      <td>[2021-12-13   11:55:02.1]</td>\n",
       "      <td>28.56N</td>\n",
       "      <td>17.83W</td>\n",
       "      <td>CANARY ISLANDS, SPAIN REGION</td>\n",
       "    </tr>\n",
       "    <tr>\n",
       "      <th>10</th>\n",
       "      <td>[2021-12-13   11:54:46.4]</td>\n",
       "      <td>38.51N</td>\n",
       "      <td>23.93E</td>\n",
       "      <td>GREECE</td>\n",
       "    </tr>\n",
       "    <tr>\n",
       "      <th>11</th>\n",
       "      <td>[2021-12-13   11:49:16.0]</td>\n",
       "      <td>35.44N</td>\n",
       "      <td>3.67W</td>\n",
       "      <td>STRAIT OF GIBRALTAR</td>\n",
       "    </tr>\n",
       "    <tr>\n",
       "      <th>12</th>\n",
       "      <td>[2021-12-13   11:47:57.7]</td>\n",
       "      <td>35.48N</td>\n",
       "      <td>3.69W</td>\n",
       "      <td>STRAIT OF GIBRALTAR</td>\n",
       "    </tr>\n",
       "    <tr>\n",
       "      <th>13</th>\n",
       "      <td>[2021-12-13   11:44:49.9]</td>\n",
       "      <td>21.79S</td>\n",
       "      <td>170.16E</td>\n",
       "      <td>SOUTHEAST OF LOYALTY ISLANDS</td>\n",
       "    </tr>\n",
       "    <tr>\n",
       "      <th>14</th>\n",
       "      <td>[2021-12-13   11:44:11.4]</td>\n",
       "      <td>35.60N</td>\n",
       "      <td>3.63W</td>\n",
       "      <td>STRAIT OF GIBRALTAR</td>\n",
       "    </tr>\n",
       "    <tr>\n",
       "      <th>15</th>\n",
       "      <td>[2021-12-13   11:40:41.3]</td>\n",
       "      <td>35.45N</td>\n",
       "      <td>3.76W</td>\n",
       "      <td>STRAIT OF GIBRALTAR</td>\n",
       "    </tr>\n",
       "    <tr>\n",
       "      <th>16</th>\n",
       "      <td>[2021-12-13   11:37:26.2]</td>\n",
       "      <td>34.75N</td>\n",
       "      <td>97.58W</td>\n",
       "      <td>OKLAHOMA</td>\n",
       "    </tr>\n",
       "    <tr>\n",
       "      <th>17</th>\n",
       "      <td>[2021-12-13   11:27:01.7]</td>\n",
       "      <td>42.85N</td>\n",
       "      <td>6.07E</td>\n",
       "      <td>WESTERN MEDITERRANEAN SEA</td>\n",
       "    </tr>\n",
       "    <tr>\n",
       "      <th>18</th>\n",
       "      <td>[2021-12-13   11:20:18.6]</td>\n",
       "      <td>17.96N</td>\n",
       "      <td>66.83W</td>\n",
       "      <td>PUERTO RICO</td>\n",
       "    </tr>\n",
       "    <tr>\n",
       "      <th>19</th>\n",
       "      <td>[2021-12-13   11:15:15.0]</td>\n",
       "      <td>19.10N</td>\n",
       "      <td>121.03E</td>\n",
       "      <td>BABUYAN ISL REGION, PHILIPPINES</td>\n",
       "    </tr>\n",
       "    <tr>\n",
       "      <th>20</th>\n",
       "      <td>[2021-12-13   11:12:59.8]</td>\n",
       "      <td>5.68S</td>\n",
       "      <td>152.00E</td>\n",
       "      <td>NEW BRITAIN REGION, P.N.G.</td>\n",
       "    </tr>\n",
       "    <tr>\n",
       "      <th>21</th>\n",
       "      <td>[2021-12-13   11:03:40.9]</td>\n",
       "      <td>28.55N</td>\n",
       "      <td>17.85W</td>\n",
       "      <td>CANARY ISLANDS, SPAIN REGION</td>\n",
       "    </tr>\n",
       "    <tr>\n",
       "      <th>22</th>\n",
       "      <td>[2021-12-13   11:02:11.0]</td>\n",
       "      <td>30.67S</td>\n",
       "      <td>71.66W</td>\n",
       "      <td>COQUIMBO, CHILE</td>\n",
       "    </tr>\n",
       "    <tr>\n",
       "      <th>23</th>\n",
       "      <td>[2021-12-13   10:58:27.4]</td>\n",
       "      <td>28.57N</td>\n",
       "      <td>17.84W</td>\n",
       "      <td>CANARY ISLANDS, SPAIN REGION</td>\n",
       "    </tr>\n",
       "    <tr>\n",
       "      <th>24</th>\n",
       "      <td>[2021-12-13   10:56:55.0]</td>\n",
       "      <td>23.92S</td>\n",
       "      <td>67.48W</td>\n",
       "      <td>ANTOFAGASTA, CHILE</td>\n",
       "    </tr>\n",
       "    <tr>\n",
       "      <th>25</th>\n",
       "      <td>[2021-12-13   10:44:59.8]</td>\n",
       "      <td>41.73N</td>\n",
       "      <td>2.38W</td>\n",
       "      <td>SPAIN</td>\n",
       "    </tr>\n",
       "    <tr>\n",
       "      <th>26</th>\n",
       "      <td>[2021-12-13   10:40:39.0]</td>\n",
       "      <td>12.09N</td>\n",
       "      <td>87.91W</td>\n",
       "      <td>NEAR COAST OF NICARAGUA</td>\n",
       "    </tr>\n",
       "    <tr>\n",
       "      <th>27</th>\n",
       "      <td>[2021-12-13   10:39:55.0]</td>\n",
       "      <td>25.91S</td>\n",
       "      <td>69.44W</td>\n",
       "      <td>ATACAMA, CHILE</td>\n",
       "    </tr>\n",
       "    <tr>\n",
       "      <th>28</th>\n",
       "      <td>[2021-12-13   10:38:52.2]</td>\n",
       "      <td>19.16N</td>\n",
       "      <td>155.45W</td>\n",
       "      <td>ISLAND OF HAWAII, HAWAII</td>\n",
       "    </tr>\n",
       "  </tbody>\n",
       "</table>\n",
       "</div>"
      ],
      "text/plain": [
       "              Date & Time UTC Latitude degrees Longitude degrees  \\\n",
       "0   [2021-12-13   12:49:36.1]           33.57N           118.17W   \n",
       "1   [2021-12-13   12:44:09.0]           31.89S            70.58W   \n",
       "2   [2021-12-13   12:39:34.0]           12.97N           121.38E   \n",
       "3   [2021-12-13   12:26:41.9]           28.55N            17.84W   \n",
       "4   [2021-12-13   12:23:20.0]            7.89S           108.10E   \n",
       "5   [2021-12-13   12:17:56.0]           12.94N            88.64W   \n",
       "6   [2021-12-13   12:16:51.9]           38.52N            23.98E   \n",
       "7   [2021-12-13   12:16:42.3]           66.34N           157.38W   \n",
       "8   [2021-12-13   12:14:13.0]           58.02N           154.89W   \n",
       "9   [2021-12-13   11:55:02.1]           28.56N            17.83W   \n",
       "10  [2021-12-13   11:54:46.4]           38.51N            23.93E   \n",
       "11  [2021-12-13   11:49:16.0]           35.44N             3.67W   \n",
       "12  [2021-12-13   11:47:57.7]           35.48N             3.69W   \n",
       "13  [2021-12-13   11:44:49.9]           21.79S           170.16E   \n",
       "14  [2021-12-13   11:44:11.4]           35.60N             3.63W   \n",
       "15  [2021-12-13   11:40:41.3]           35.45N             3.76W   \n",
       "16  [2021-12-13   11:37:26.2]           34.75N            97.58W   \n",
       "17  [2021-12-13   11:27:01.7]           42.85N             6.07E   \n",
       "18  [2021-12-13   11:20:18.6]           17.96N            66.83W   \n",
       "19  [2021-12-13   11:15:15.0]           19.10N           121.03E   \n",
       "20  [2021-12-13   11:12:59.8]            5.68S           152.00E   \n",
       "21  [2021-12-13   11:03:40.9]           28.55N            17.85W   \n",
       "22  [2021-12-13   11:02:11.0]           30.67S            71.66W   \n",
       "23  [2021-12-13   10:58:27.4]           28.57N            17.84W   \n",
       "24  [2021-12-13   10:56:55.0]           23.92S            67.48W   \n",
       "25  [2021-12-13   10:44:59.8]           41.73N             2.38W   \n",
       "26  [2021-12-13   10:40:39.0]           12.09N            87.91W   \n",
       "27  [2021-12-13   10:39:55.0]           25.91S            69.44W   \n",
       "28  [2021-12-13   10:38:52.2]           19.16N           155.45W   \n",
       "\n",
       "                        Region name  \n",
       "0     SAN PEDRO CHANNEL, CALIFORNIA  \n",
       "1                   COQUIMBO, CHILE  \n",
       "2              MINDORO, PHILIPPINES  \n",
       "3      CANARY ISLANDS, SPAIN REGION  \n",
       "4                   JAVA, INDONESIA  \n",
       "5              OFFSHORE EL SALVADOR  \n",
       "6                            GREECE  \n",
       "7                   NORTHERN ALASKA  \n",
       "8                  ALASKA PENINSULA  \n",
       "9      CANARY ISLANDS, SPAIN REGION  \n",
       "10                           GREECE  \n",
       "11              STRAIT OF GIBRALTAR  \n",
       "12              STRAIT OF GIBRALTAR  \n",
       "13     SOUTHEAST OF LOYALTY ISLANDS  \n",
       "14              STRAIT OF GIBRALTAR  \n",
       "15              STRAIT OF GIBRALTAR  \n",
       "16                         OKLAHOMA  \n",
       "17        WESTERN MEDITERRANEAN SEA  \n",
       "18                      PUERTO RICO  \n",
       "19  BABUYAN ISL REGION, PHILIPPINES  \n",
       "20       NEW BRITAIN REGION, P.N.G.  \n",
       "21     CANARY ISLANDS, SPAIN REGION  \n",
       "22                  COQUIMBO, CHILE  \n",
       "23     CANARY ISLANDS, SPAIN REGION  \n",
       "24               ANTOFAGASTA, CHILE  \n",
       "25                            SPAIN  \n",
       "26          NEAR COAST OF NICARAGUA  \n",
       "27                   ATACAMA, CHILE  \n",
       "28         ISLAND OF HAWAII, HAWAII  "
      ]
     },
     "metadata": {},
     "execution_count": 23
    }
   ],
   "metadata": {}
  },
  {
   "cell_type": "markdown",
   "source": [
    "#### Count the number of tweets by a given Twitter account.\n",
    "Ask the user for the handle (@handle) of a twitter account. You will need to include a ***try/except block*** for account names not found. \n",
    "<br>***Hint:*** the program should count the number of tweets for any provided account."
   ],
   "metadata": {}
  },
  {
   "cell_type": "code",
   "execution_count": 63,
   "source": [
    "# This is the url you will scrape in this exercise \n",
    "# You will need to add the account credentials to this url\n",
    "base_url = 'https://twitter.com/'\n",
    "user= \"Handle\"\n",
    "url_8=base_url+user\n",
    "soup_8 = BeautifulSoup(requests.get(url_8).content, \"html.parser\") \n",
    "\n",
    "tweets= soup_8.find_all('div',{'class':'css-901oao.css-bfa6kz.r-14j79pv.r-37j5jr.r-n6v787.r-16dba41.r-1cwl3u0.r-bcqeeo.r-qvutc0'})\n",
    "tweets\n"
   ],
   "outputs": [
    {
     "output_type": "execute_result",
     "data": {
      "text/plain": [
       "[]"
      ]
     },
     "metadata": {},
     "execution_count": 63
    }
   ],
   "metadata": {}
  },
  {
   "cell_type": "code",
   "execution_count": null,
   "source": [
    "# your code here"
   ],
   "outputs": [],
   "metadata": {}
  },
  {
   "cell_type": "markdown",
   "source": [
    "#### Number of followers of a given twitter account\n",
    "Ask the user for the handle (@handle) of a twitter account. You will need to include a ***try/except block*** for account names not found. \n",
    "<br>***Hint:*** the program should count the followers for any provided account."
   ],
   "metadata": {}
  },
  {
   "cell_type": "code",
   "execution_count": null,
   "source": [
    "# This is the url you will scrape in this exercise \n",
    "# You will need to add the account credentials to this url\n",
    "url = 'https://twitter.com/'"
   ],
   "outputs": [],
   "metadata": {}
  },
  {
   "cell_type": "code",
   "execution_count": null,
   "source": [
    "# your code here"
   ],
   "outputs": [],
   "metadata": {}
  },
  {
   "cell_type": "markdown",
   "source": [
    "#### List all language names and number of related articles in the order they appear in wikipedia.org."
   ],
   "metadata": {}
  },
  {
   "cell_type": "code",
   "execution_count": 99,
   "source": [
    "# This is the url you will scrape in this exercise\n",
    "url_10 = 'https://www.wikipedia.org/'\n",
    "soup_10 = BeautifulSoup(requests.get(url_10).content, \"html.parser\") \n",
    "languages=[language.text.strip() for language in soup_10.find_all(\"strong\")][1:-1]\n",
    "articles=[article.text.replace(\"\\xa0\",\"\").strip() for article in soup_10.find_all(\"small\")][0:(len(languages))]\n",
    "\n",
    "languages_articles=pd.DataFrame({\"Language\":languages,\"Articles\":articles})\n",
    "languages_articles"
   ],
   "outputs": [
    {
     "output_type": "execute_result",
     "data": {
      "text/html": [
       "<div>\n",
       "<style scoped>\n",
       "    .dataframe tbody tr th:only-of-type {\n",
       "        vertical-align: middle;\n",
       "    }\n",
       "\n",
       "    .dataframe tbody tr th {\n",
       "        vertical-align: top;\n",
       "    }\n",
       "\n",
       "    .dataframe thead th {\n",
       "        text-align: right;\n",
       "    }\n",
       "</style>\n",
       "<table border=\"1\" class=\"dataframe\">\n",
       "  <thead>\n",
       "    <tr style=\"text-align: right;\">\n",
       "      <th></th>\n",
       "      <th>Language</th>\n",
       "      <th>Articles</th>\n",
       "    </tr>\n",
       "  </thead>\n",
       "  <tbody>\n",
       "    <tr>\n",
       "      <th>0</th>\n",
       "      <td>English</td>\n",
       "      <td>6383000+ articles</td>\n",
       "    </tr>\n",
       "    <tr>\n",
       "      <th>1</th>\n",
       "      <td>日本語</td>\n",
       "      <td>1292000+ 記事</td>\n",
       "    </tr>\n",
       "    <tr>\n",
       "      <th>2</th>\n",
       "      <td>Русский</td>\n",
       "      <td>1756000+ статей</td>\n",
       "    </tr>\n",
       "    <tr>\n",
       "      <th>3</th>\n",
       "      <td>Deutsch</td>\n",
       "      <td>2617000+ Artikel</td>\n",
       "    </tr>\n",
       "    <tr>\n",
       "      <th>4</th>\n",
       "      <td>Español</td>\n",
       "      <td>1717000+ artículos</td>\n",
       "    </tr>\n",
       "    <tr>\n",
       "      <th>5</th>\n",
       "      <td>Français</td>\n",
       "      <td>2362000+ articles</td>\n",
       "    </tr>\n",
       "    <tr>\n",
       "      <th>6</th>\n",
       "      <td>中文</td>\n",
       "      <td>1231000+ 條目</td>\n",
       "    </tr>\n",
       "    <tr>\n",
       "      <th>7</th>\n",
       "      <td>Italiano</td>\n",
       "      <td>1718000+ voci</td>\n",
       "    </tr>\n",
       "    <tr>\n",
       "      <th>8</th>\n",
       "      <td>Português</td>\n",
       "      <td>1074000+ artigos</td>\n",
       "    </tr>\n",
       "    <tr>\n",
       "      <th>9</th>\n",
       "      <td>Polski</td>\n",
       "      <td>1490000+ haseł</td>\n",
       "    </tr>\n",
       "  </tbody>\n",
       "</table>\n",
       "</div>"
      ],
      "text/plain": [
       "    Language            Articles\n",
       "0    English   6383000+ articles\n",
       "1        日本語         1292000+ 記事\n",
       "2    Русский     1756000+ статей\n",
       "3    Deutsch    2617000+ Artikel\n",
       "4    Español  1717000+ artículos\n",
       "5   Français   2362000+ articles\n",
       "6         中文         1231000+ 條目\n",
       "7   Italiano       1718000+ voci\n",
       "8  Português    1074000+ artigos\n",
       "9     Polski      1490000+ haseł"
      ]
     },
     "metadata": {},
     "execution_count": 99
    }
   ],
   "metadata": {}
  },
  {
   "cell_type": "markdown",
   "source": [
    "#### A list with the different kind of datasets available in data.gov.uk."
   ],
   "metadata": {}
  },
  {
   "cell_type": "code",
   "execution_count": 106,
   "source": [
    "# This is the url you will scrape in this exercise\n",
    "url_11 = 'https://data.gov.uk/'\n",
    "soup_11 = BeautifulSoup(requests.get(url_11).content, \"html.parser\") \n",
    "datasets=[dataset.text for dataset in soup_11.find_all(\"h3\",{\"class\":\"govuk-heading-s dgu-topics__heading\"})]\n",
    "datasets"
   ],
   "outputs": [
    {
     "output_type": "execute_result",
     "data": {
      "text/plain": [
       "['Business and economy',\n",
       " 'Crime and justice',\n",
       " 'Defence',\n",
       " 'Education',\n",
       " 'Environment',\n",
       " 'Government',\n",
       " 'Government spending',\n",
       " 'Health',\n",
       " 'Mapping',\n",
       " 'Society',\n",
       " 'Towns and cities',\n",
       " 'Transport',\n",
       " 'Digital service performance',\n",
       " 'Government reference data']"
      ]
     },
     "metadata": {},
     "execution_count": 106
    }
   ],
   "metadata": {}
  },
  {
   "cell_type": "markdown",
   "source": [
    "#### Display the top 10 languages by number of native speakers stored in a pandas dataframe."
   ],
   "metadata": {}
  },
  {
   "cell_type": "code",
   "execution_count": 193,
   "source": [
    "# This is the url you will scrape in this exercise\n",
    "url_12 = 'https://en.wikipedia.org/wiki/List_of_languages_by_number_of_native_speakers'\n",
    "soup_12 = BeautifulSoup(requests.get(url_12).text, \"lxml\") \n",
    "top_languages=[language1.text.replace(\"\\n\",\"\").replace(\"[11]\",\"\").replace(\"[12]\",\"\").strip() for language1 in soup_12.find_all(\"td\") if language1.a][0:30:3]\n",
    "speakers=[speaker.text.replace(\"\\n\",\"\").strip() for speaker in soup_12.find_all(\"td\")][4:60:6]\n",
    "top_languages_speakers=pd.DataFrame({\"Language\":top_languages,\"Speakers (millions)\":speakers})\n",
    "top_languages_speakers\n"
   ],
   "outputs": [
    {
     "output_type": "execute_result",
     "data": {
      "text/html": [
       "<div>\n",
       "<style scoped>\n",
       "    .dataframe tbody tr th:only-of-type {\n",
       "        vertical-align: middle;\n",
       "    }\n",
       "\n",
       "    .dataframe tbody tr th {\n",
       "        vertical-align: top;\n",
       "    }\n",
       "\n",
       "    .dataframe thead th {\n",
       "        text-align: right;\n",
       "    }\n",
       "</style>\n",
       "<table border=\"1\" class=\"dataframe\">\n",
       "  <thead>\n",
       "    <tr style=\"text-align: right;\">\n",
       "      <th></th>\n",
       "      <th>Language</th>\n",
       "      <th>Speakers (millions)</th>\n",
       "    </tr>\n",
       "  </thead>\n",
       "  <tbody>\n",
       "    <tr>\n",
       "      <th>0</th>\n",
       "      <td>Mandarin Chinese</td>\n",
       "      <td>918</td>\n",
       "    </tr>\n",
       "    <tr>\n",
       "      <th>1</th>\n",
       "      <td>Spanish</td>\n",
       "      <td>480</td>\n",
       "    </tr>\n",
       "    <tr>\n",
       "      <th>2</th>\n",
       "      <td>English</td>\n",
       "      <td>379</td>\n",
       "    </tr>\n",
       "    <tr>\n",
       "      <th>3</th>\n",
       "      <td>Hindi (sanskritised Hindustani)</td>\n",
       "      <td>341</td>\n",
       "    </tr>\n",
       "    <tr>\n",
       "      <th>4</th>\n",
       "      <td>Bengali</td>\n",
       "      <td>300</td>\n",
       "    </tr>\n",
       "    <tr>\n",
       "      <th>5</th>\n",
       "      <td>Portuguese</td>\n",
       "      <td>221</td>\n",
       "    </tr>\n",
       "    <tr>\n",
       "      <th>6</th>\n",
       "      <td>Russian</td>\n",
       "      <td>154</td>\n",
       "    </tr>\n",
       "    <tr>\n",
       "      <th>7</th>\n",
       "      <td>Japanese</td>\n",
       "      <td>128</td>\n",
       "    </tr>\n",
       "    <tr>\n",
       "      <th>8</th>\n",
       "      <td>Western Punjabi</td>\n",
       "      <td>92.7</td>\n",
       "    </tr>\n",
       "    <tr>\n",
       "      <th>9</th>\n",
       "      <td>Marathi</td>\n",
       "      <td>83.1</td>\n",
       "    </tr>\n",
       "  </tbody>\n",
       "</table>\n",
       "</div>"
      ],
      "text/plain": [
       "                          Language Speakers (millions)\n",
       "0                 Mandarin Chinese                 918\n",
       "1                          Spanish                 480\n",
       "2                          English                 379\n",
       "3  Hindi (sanskritised Hindustani)                 341\n",
       "4                          Bengali                 300\n",
       "5                       Portuguese                 221\n",
       "6                          Russian                 154\n",
       "7                         Japanese                 128\n",
       "8                  Western Punjabi                92.7\n",
       "9                          Marathi                83.1"
      ]
     },
     "metadata": {},
     "execution_count": 193
    }
   ],
   "metadata": {}
  },
  {
   "cell_type": "markdown",
   "source": [
    "## Bonus\n",
    "#### Scrape a certain number of tweets of a given Twitter account."
   ],
   "metadata": {}
  },
  {
   "cell_type": "code",
   "execution_count": null,
   "source": [
    "# This is the url you will scrape in this exercise \n",
    "# You will need to add the account credentials to this url\n",
    "url = 'https://twitter.com/'"
   ],
   "outputs": [],
   "metadata": {}
  },
  {
   "cell_type": "code",
   "execution_count": null,
   "source": [
    "# your code here"
   ],
   "outputs": [],
   "metadata": {}
  },
  {
   "cell_type": "markdown",
   "source": [
    "#### Display IMDB's top 250 data (movie name, initial release, director name and stars) as a pandas dataframe."
   ],
   "metadata": {}
  },
  {
   "cell_type": "code",
   "execution_count": null,
   "source": [
    "# This is the url you will scrape in this exercise \n",
    "url = 'https://www.imdb.com/chart/top'"
   ],
   "outputs": [],
   "metadata": {}
  },
  {
   "cell_type": "code",
   "execution_count": null,
   "source": [
    "# your code here"
   ],
   "outputs": [],
   "metadata": {}
  },
  {
   "cell_type": "markdown",
   "source": [
    "#### Display the movie name, year and a brief summary of the top 10 random movies (IMDB) as a pandas dataframe."
   ],
   "metadata": {}
  },
  {
   "cell_type": "code",
   "execution_count": null,
   "source": [
    "#This is the url you will scrape in this exercise\n",
    "url = 'http://www.imdb.com/chart/top'"
   ],
   "outputs": [],
   "metadata": {}
  },
  {
   "cell_type": "code",
   "execution_count": null,
   "source": [
    "# your code here"
   ],
   "outputs": [],
   "metadata": {}
  },
  {
   "cell_type": "markdown",
   "source": [
    "#### Find the live weather report (temperature, wind speed, description and weather) of a given city."
   ],
   "metadata": {}
  },
  {
   "cell_type": "code",
   "execution_count": null,
   "source": [
    "#https://openweathermap.org/current\n",
    "city = input('Enter the city: ')\n",
    "url = 'http://api.openweathermap.org/data/2.5/weather?'+'q='+city+'&APPID=b35975e18dc93725acb092f7272cc6b8&units=metric'"
   ],
   "outputs": [],
   "metadata": {}
  },
  {
   "cell_type": "code",
   "execution_count": null,
   "source": [
    "# your code here"
   ],
   "outputs": [],
   "metadata": {}
  },
  {
   "cell_type": "markdown",
   "source": [
    "#### Find the book name, price and stock availability as a pandas dataframe."
   ],
   "metadata": {}
  },
  {
   "cell_type": "code",
   "execution_count": null,
   "source": [
    "# This is the url you will scrape in this exercise. \n",
    "# It is a fictional bookstore created to be scraped. \n",
    "url = 'http://books.toscrape.com/'"
   ],
   "outputs": [],
   "metadata": {}
  },
  {
   "cell_type": "code",
   "execution_count": null,
   "source": [
    "# your code here"
   ],
   "outputs": [],
   "metadata": {}
  }
 ],
 "metadata": {
  "kernelspec": {
   "name": "python3",
   "display_name": "Python 3.7.11 64-bit ('ironhack_env': conda)"
  },
  "language_info": {
   "codemirror_mode": {
    "name": "ipython",
    "version": 3
   },
   "file_extension": ".py",
   "mimetype": "text/x-python",
   "name": "python",
   "nbconvert_exporter": "python",
   "pygments_lexer": "ipython3",
   "version": "3.7.11"
  },
  "interpreter": {
   "hash": "8c5c2b57ca15aef8b3df4b1c6669ccf99964c5a816b33fa10768565149e83d50"
  }
 },
 "nbformat": 4,
 "nbformat_minor": 2
}