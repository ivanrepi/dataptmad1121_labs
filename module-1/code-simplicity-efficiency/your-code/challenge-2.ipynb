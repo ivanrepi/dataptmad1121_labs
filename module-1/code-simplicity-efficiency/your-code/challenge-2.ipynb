{
 "cells": [
  {
   "cell_type": "code",
   "execution_count": 52,
   "source": [
    "import random\n",
    "import string\n",
    "\n",
    "def BatchStringGenerator():\n",
    "    a = int(input('Enter minimum string length: '))\n",
    "    b = int(input('Enter maximum string length: '))\n",
    "    n = int(input('How many random strings to generate? '))\n",
    "    r=[]\n",
    "\n",
    "    for i in range(n):\n",
    "        length=random.randint(a, b)\n",
    "        result_str = ''.join(random.choices(string.ascii_lowercase + string.digits, k=length))\n",
    "        r.append(result_str)\n",
    "    return r\n",
    "\n",
    "BatchStringGenerator()\n"
   ],
   "outputs": [
    {
     "output_type": "execute_result",
     "data": {
      "text/plain": [
       "['rnlem']"
      ]
     },
     "metadata": {},
     "execution_count": 52
    }
   ],
   "metadata": {}
  }
 ],
 "metadata": {
  "orig_nbformat": 4,
  "language_info": {
   "name": "python",
   "version": "3.7.11",
   "mimetype": "text/x-python",
   "codemirror_mode": {
    "name": "ipython",
    "version": 3
   },
   "pygments_lexer": "ipython3",
   "nbconvert_exporter": "python",
   "file_extension": ".py"
  },
  "kernelspec": {
   "name": "python3",
   "display_name": "Python 3.7.11 64-bit ('ironhack_env': conda)"
  },
  "interpreter": {
   "hash": "8c5c2b57ca15aef8b3df4b1c6669ccf99964c5a816b33fa10768565149e83d50"
  }
 },
 "nbformat": 4,
 "nbformat_minor": 2
}