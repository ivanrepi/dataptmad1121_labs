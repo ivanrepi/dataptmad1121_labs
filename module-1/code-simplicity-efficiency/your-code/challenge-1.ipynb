{
 "cells": [
  {
   "cell_type": "code",
   "execution_count": 55,
   "source": [
    "name_to_number={\"negative five\":-5,\"negative four\":-4,\"negative three\":-3, \"negative two\":-2,\"negative one\":-1,\"zero\":0,\"one\":1,\"two\":2,\"three\":3,\"four\":4,\"five\":5,\"six\":6,\"seven\":7,\"eight\":8,\"nine\":9,\"ten\":9}\n",
    "\n",
    "def calculator():\n",
    "    print('Welcome to this calculator!')\n",
    "    print('It can add and subtract whole numbers from zero to five')\n",
    "    a = input('Please choose your first number (zero to five): ')\n",
    "    b = input('What do you want to do? plus or minus: ')\n",
    "    c = input('Please choose your second number (zero to five): ')\n",
    "    try:\n",
    "        a_num=name_to_number[a]\n",
    "        c_num=name_to_number[c]\n",
    "        if b==\"plus\":\n",
    "            total=a_num+c_num\n",
    "            total_text=(list(name_to_number.keys())[list(name_to_number.values()).index(total)])\n",
    "            print(f'{a} {b} {c} equals {total_text}')\n",
    "            return print(\"Thanks for using this calculator, goodbye :)\")\n",
    "        elif b==\"minus\":\n",
    "            total=a_num-c_num\n",
    "            total_text=(list(name_to_number.keys())[list(name_to_number.values()).index(total)])\n",
    "            print(f'{a} {b} {c} equals {total_text}')\n",
    "            return print(\"Thanks for using this calculator, goodbye :)\")\n",
    "    except:\n",
    "        print(\"I am not able to answer this question. Check your input.\")\n"
   ],
   "outputs": [],
   "metadata": {}
  },
  {
   "cell_type": "code",
   "execution_count": 56,
   "source": [
    "calculator()\n"
   ],
   "outputs": [
    {
     "output_type": "stream",
     "name": "stdout",
     "text": [
      "Welcome to this calculator!\n",
      "It can add and subtract whole numbers from zero to five\n",
      "I am not able to answer this question. Check your input.\n"
     ]
    }
   ],
   "metadata": {}
  }
 ],
 "metadata": {
  "orig_nbformat": 4,
  "language_info": {
   "name": "python",
   "version": "3.7.11",
   "mimetype": "text/x-python",
   "codemirror_mode": {
    "name": "ipython",
    "version": 3
   },
   "pygments_lexer": "ipython3",
   "nbconvert_exporter": "python",
   "file_extension": ".py"
  },
  "kernelspec": {
   "name": "python3",
   "display_name": "Python 3.7.11 64-bit ('ironhack_env': conda)"
  },
  "interpreter": {
   "hash": "8c5c2b57ca15aef8b3df4b1c6669ccf99964c5a816b33fa10768565149e83d50"
  }
 },
 "nbformat": 4,
 "nbformat_minor": 2
}